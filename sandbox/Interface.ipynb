{
 "cells": [
  {
   "cell_type": "code",
   "execution_count": 1,
   "metadata": {},
   "outputs": [],
   "source": [
    "%load_ext autoreload\n",
    "%autoreload 2"
   ]
  },
  {
   "cell_type": "code",
   "execution_count": 2,
   "metadata": {},
   "outputs": [
    {
     "data": {
      "application/vnd.jupyter.widget-view+json": {
       "model_id": "a9116672443440b798acd1519bd52be1",
       "version_major": 2,
       "version_minor": 0
      },
      "text/plain": []
     },
     "metadata": {},
     "output_type": "display_data"
    }
   ],
   "source": [
    "import sys\n",
    "import molsysmt as msm\n",
    "import numpy as np"
   ]
  },
  {
   "cell_type": "code",
   "execution_count": 3,
   "metadata": {},
   "outputs": [],
   "source": [
    "from simtk import unit"
   ]
  },
  {
   "cell_type": "code",
   "execution_count": 4,
   "metadata": {},
   "outputs": [],
   "source": [
    "sys.path.append('/home/diego/Proyectos/PELE_support/original_pele')\n",
    "import pele"
   ]
  },
  {
   "cell_type": "markdown",
   "metadata": {},
   "source": [
    "## Molecular system for test"
   ]
  },
  {
   "cell_type": "code",
   "execution_count": 5,
   "metadata": {},
   "outputs": [],
   "source": [
    "from simtk.openmm import app"
   ]
  },
  {
   "cell_type": "code",
   "execution_count": 6,
   "metadata": {},
   "outputs": [],
   "source": [
    "modeller = msm.build_peptide('aminoacids3:AceAlaNme', to_form='openmm.Modeller', verbose=False)"
   ]
  },
  {
   "cell_type": "code",
   "execution_count": 7,
   "metadata": {},
   "outputs": [
    {
     "data": {
      "text/html": [
       "<style  type=\"text/css\" >\n",
       "</style><table id=\"T_87802bae_cf03_11ea_8aeb_6bd8eb6872ce\" ><thead>    <tr>        <th class=\"col_heading level0 col0\" >form</th>        <th class=\"col_heading level0 col1\" >n_atoms</th>        <th class=\"col_heading level0 col2\" >n_groups</th>        <th class=\"col_heading level0 col3\" >n_components</th>        <th class=\"col_heading level0 col4\" >n_chains</th>        <th class=\"col_heading level0 col5\" >n_molecules</th>        <th class=\"col_heading level0 col6\" >n_entities</th>        <th class=\"col_heading level0 col7\" >n_peptides</th>        <th class=\"col_heading level0 col8\" >n_frames</th>    </tr></thead><tbody>\n",
       "                <tr>\n",
       "                                <td id=\"T_87802bae_cf03_11ea_8aeb_6bd8eb6872cerow0_col0\" class=\"data row0 col0\" >openmm.Modeller</td>\n",
       "                        <td id=\"T_87802bae_cf03_11ea_8aeb_6bd8eb6872cerow0_col1\" class=\"data row0 col1\" >22</td>\n",
       "                        <td id=\"T_87802bae_cf03_11ea_8aeb_6bd8eb6872cerow0_col2\" class=\"data row0 col2\" >3</td>\n",
       "                        <td id=\"T_87802bae_cf03_11ea_8aeb_6bd8eb6872cerow0_col3\" class=\"data row0 col3\" >1</td>\n",
       "                        <td id=\"T_87802bae_cf03_11ea_8aeb_6bd8eb6872cerow0_col4\" class=\"data row0 col4\" >1</td>\n",
       "                        <td id=\"T_87802bae_cf03_11ea_8aeb_6bd8eb6872cerow0_col5\" class=\"data row0 col5\" >1</td>\n",
       "                        <td id=\"T_87802bae_cf03_11ea_8aeb_6bd8eb6872cerow0_col6\" class=\"data row0 col6\" >1</td>\n",
       "                        <td id=\"T_87802bae_cf03_11ea_8aeb_6bd8eb6872cerow0_col7\" class=\"data row0 col7\" >1</td>\n",
       "                        <td id=\"T_87802bae_cf03_11ea_8aeb_6bd8eb6872cerow0_col8\" class=\"data row0 col8\" >1</td>\n",
       "            </tr>\n",
       "    </tbody></table>"
      ],
      "text/plain": [
       "<pandas.io.formats.style.Styler at 0x7fb63e882ed0>"
      ]
     },
     "execution_count": 7,
     "metadata": {},
     "output_type": "execute_result"
    }
   ],
   "source": [
    "msm.info(modeller)"
   ]
  },
  {
   "cell_type": "code",
   "execution_count": 8,
   "metadata": {},
   "outputs": [],
   "source": [
    "topology = modeller.topology\n",
    "positions = modeller.positions"
   ]
  },
  {
   "cell_type": "code",
   "execution_count": 9,
   "metadata": {},
   "outputs": [],
   "source": [
    "forcefield = app.ForceField('amber10.xml', 'amber10_obc.xml')\n",
    "system = forcefield.createSystem(topology, constraints=app.HBonds, nonbondedMethod=app.NoCutoff)"
   ]
  },
  {
   "cell_type": "markdown",
   "metadata": {},
   "source": [
    "## Class Explorer"
   ]
  },
  {
   "cell_type": "code",
   "execution_count": 10,
   "metadata": {},
   "outputs": [],
   "source": [
    "import openexplorer as oe"
   ]
  },
  {
   "cell_type": "code",
   "execution_count": 11,
   "metadata": {},
   "outputs": [],
   "source": [
    "explorer = oe.Explorer(system)"
   ]
  },
  {
   "cell_type": "code",
   "execution_count": 12,
   "metadata": {},
   "outputs": [],
   "source": [
    "explorer.set_coordinates(positions)"
   ]
  },
  {
   "cell_type": "code",
   "execution_count": 13,
   "metadata": {},
   "outputs": [
    {
     "data": {
      "text/plain": [
       "Quantity(value=-396.62792397488926, unit=kilojoule/mole)"
      ]
     },
     "execution_count": 13,
     "metadata": {},
     "output_type": "execute_result"
    }
   ],
   "source": [
    "explorer.get_energy()"
   ]
  },
  {
   "cell_type": "code",
   "execution_count": 14,
   "metadata": {},
   "outputs": [
    {
     "data": {
      "text/plain": [
       "Quantity(value=array([-132.63215181,  -54.29797936,   -0.49879143, ...,  -30.98239942,\n",
       "        -40.30488987,   48.49744656]), unit=kilojoule/(nanometer*mole))"
      ]
     },
     "execution_count": 14,
     "metadata": {},
     "output_type": "execute_result"
    }
   ],
   "source": [
    "explorer.get_gradient()"
   ]
  },
  {
   "cell_type": "code",
   "execution_count": 15,
   "metadata": {},
   "outputs": [
    {
     "data": {
      "text/plain": [
       "Quantity(value=array([[ 5.05343229e+04,  1.07679877e+03, -1.47323590e-02, ...,\n",
       "        -2.23159790e+00,  4.81605530e-01,  1.10358000e+00],\n",
       "       [ 1.07679877e+03,  1.79130554e+03, -5.15777792e+00, ...,\n",
       "         2.86102295e-01, -5.26905060e+00,  3.17066908e+00],\n",
       "       [-1.47323590e-02, -5.15777792e+00,  3.64299897e+04, ...,\n",
       "        -5.03510237e-01, -7.88271427e-01, -2.97509134e+00],\n",
       "       ...,\n",
       "       [-2.23159790e+00,  2.86102295e-01, -5.03510237e-01, ...,\n",
       "         2.86599552e+04, -7.05364726e+03,  1.33192416e+04],\n",
       "       [ 4.81605530e-01, -5.26905060e+00, -7.88271427e-01, ...,\n",
       "        -7.05364726e+03,  4.21439978e+04,  1.26370583e+04],\n",
       "       [ 1.10358000e+00,  3.17066908e+00, -2.97509134e+00, ...,\n",
       "         1.33192416e+04,  1.26370583e+04,  1.29976568e+04]]), unit=kilojoule/(nanometer**2*mole))"
      ]
     },
     "execution_count": 15,
     "metadata": {},
     "output_type": "execute_result"
    }
   ],
   "source": [
    "explorer.get_hessian()"
   ]
  },
  {
   "cell_type": "markdown",
   "metadata": {},
   "source": [
    "## Class Move"
   ]
  },
  {
   "cell_type": "code",
   "execution_count": 36,
   "metadata": {},
   "outputs": [],
   "source": [
    "movement = oe.movements.RandomAtomsMaxRMSD(stepsize=0.1*unit.nanometers)"
   ]
  },
  {
   "cell_type": "code",
   "execution_count": 37,
   "metadata": {},
   "outputs": [
    {
     "data": {
      "text/plain": [
       "Quantity(value=array([[ 0.19967932,  0.07891848,  0.14291345],\n",
       "       [ 0.18695092,  0.19053849,  0.17314421],\n",
       "       [ 0.1152128 ,  0.24479045,  0.02754857],\n",
       "       ...,\n",
       "       [ 0.61916141,  0.7227367 ,  0.03499642],\n",
       "       [ 0.58509955,  0.94927249,  0.16987999],\n",
       "       [ 0.52549469,  0.83201378, -0.10397921]]), unit=nanometer)"
      ]
     },
     "execution_count": 37,
     "metadata": {},
     "output_type": "execute_result"
    }
   ],
   "source": [
    "explorer.get_coordinates()"
   ]
  },
  {
   "cell_type": "code",
   "execution_count": 39,
   "metadata": {},
   "outputs": [],
   "source": [
    "movement(explorer)"
   ]
  },
  {
   "cell_type": "code",
   "execution_count": 40,
   "metadata": {},
   "outputs": [
    {
     "data": {
      "text/plain": [
       "Quantity(value=array([[ 0.21204983,  0.08790249,  0.13185126],\n",
       "       [ 0.21135032,  0.17931793,  0.19613868],\n",
       "       [ 0.11458168,  0.25688003,  0.02534519],\n",
       "       ...,\n",
       "       [ 0.60929125,  0.7370201 ,  0.07012367],\n",
       "       [ 0.59825678,  0.96643015,  0.1766222 ],\n",
       "       [ 0.51515814,  0.83834   , -0.09686404]]), unit=nanometer)"
      ]
     },
     "execution_count": 40,
     "metadata": {},
     "output_type": "execute_result"
    }
   ],
   "source": [
    "explorer.get_coordinates()"
   ]
  },
  {
   "cell_type": "markdown",
   "metadata": {},
   "source": [
    "## Basin Hopping"
   ]
  },
  {
   "cell_type": "code",
   "execution_count": null,
   "metadata": {},
   "outputs": [],
   "source": [
    "import pele.basinhopping as bh\n",
    "from pele.takestep import displace\n",
    "\n",
    "step = displace.RandomDisplacement(stepsize=0.01)\n",
    "\n",
    "opt = bh.BasinHopping(positions.flatten(), potential, takeStep=step)\n",
    "#opt.run(100)"
   ]
  },
  {
   "cell_type": "code",
   "execution_count": null,
   "metadata": {},
   "outputs": [],
   "source": [
    "potential."
   ]
  },
  {
   "cell_type": "code",
   "execution_count": 41,
   "metadata": {},
   "outputs": [
    {
     "name": "stderr",
     "output_type": "stream",
     "text": [
      "[autoreload of openexplorer.movements failed: Traceback (most recent call last):\n",
      "  File \"/home/diego/Myusr/opt/miniconda3/envs/UIBCDF_lab_dev/lib/python3.7/site-packages/IPython/extensions/autoreload.py\", line 245, in check\n",
      "    superreload(m, reload, self.old_objects)\n",
      "  File \"/home/diego/Myusr/opt/miniconda3/envs/UIBCDF_lab_dev/lib/python3.7/site-packages/IPython/extensions/autoreload.py\", line 394, in superreload\n",
      "    module = reload(module)\n",
      "  File \"/home/diego/Myusr/opt/miniconda3/envs/UIBCDF_lab_dev/lib/python3.7/imp.py\", line 314, in reload\n",
      "    return importlib.reload(module)\n",
      "  File \"/home/diego/Myusr/opt/miniconda3/envs/UIBCDF_lab_dev/lib/python3.7/importlib/__init__.py\", line 169, in reload\n",
      "    _bootstrap._exec(spec, module)\n",
      "  File \"<frozen importlib._bootstrap>\", line 630, in _exec\n",
      "  File \"<frozen importlib._bootstrap_external>\", line 728, in exec_module\n",
      "  File \"<frozen importlib._bootstrap>\", line 219, in _call_with_frames_removed\n",
      "  File \"/home/diego/Proyectos/OpenExplorer/openexplorer/movements/__init__.py\", line 1, in <module>\n",
      "    from .atoms_shifts import RandomAtomsShifts, RandomAtomsMaxShifts, RandomAtomsRMSD, RandomAtomsMaxRMSD\n",
      "ModuleNotFoundError: No module named 'openexplorer.movements.atoms_shifts'\n",
      "]\n"
     ]
    }
   ],
   "source": [
    "import numpy as np"
   ]
  },
  {
   "cell_type": "code",
   "execution_count": 45,
   "metadata": {},
   "outputs": [
    {
     "data": {
      "text/plain": [
       "array([-1,  1, -1, -1,  1,  1,  1, -1,  1, -1])"
      ]
     },
     "execution_count": 45,
     "metadata": {},
     "output_type": "execute_result"
    }
   ],
   "source": [
    "np.random.choice([-1,1],size=10)"
   ]
  },
  {
   "cell_type": "code",
   "execution_count": null,
   "metadata": {},
   "outputs": [],
   "source": []
  }
 ],
 "metadata": {
  "kernelspec": {
   "display_name": "Python 3",
   "language": "python",
   "name": "python3"
  },
  "language_info": {
   "codemirror_mode": {
    "name": "ipython",
    "version": 3
   },
   "file_extension": ".py",
   "mimetype": "text/x-python",
   "name": "python",
   "nbconvert_exporter": "python",
   "pygments_lexer": "ipython3",
   "version": "3.7.7"
  }
 },
 "nbformat": 4,
 "nbformat_minor": 4
}
