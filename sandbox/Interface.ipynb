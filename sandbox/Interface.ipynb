{
 "cells": [
  {
   "cell_type": "code",
   "execution_count": 1,
   "metadata": {},
   "outputs": [],
   "source": [
    "%load_ext autoreload\n",
    "%autoreload 2"
   ]
  },
  {
   "cell_type": "code",
   "execution_count": 2,
   "metadata": {},
   "outputs": [
    {
     "data": {
      "application/vnd.jupyter.widget-view+json": {
       "model_id": "962019b52fe34470bb629ba0aaf79a32",
       "version_major": 2,
       "version_minor": 0
      },
      "text/plain": []
     },
     "metadata": {},
     "output_type": "display_data"
    }
   ],
   "source": [
    "import sys\n",
    "import molsysmt as msm\n",
    "import numpy as np"
   ]
  },
  {
   "cell_type": "code",
   "execution_count": 3,
   "metadata": {},
   "outputs": [],
   "source": [
    "from simtk import unit"
   ]
  },
  {
   "cell_type": "code",
   "execution_count": 4,
   "metadata": {},
   "outputs": [],
   "source": [
    "sys.path.append('/home/diego/Proyectos/PELE_support/original_pele')\n",
    "import pele"
   ]
  },
  {
   "cell_type": "markdown",
   "metadata": {},
   "source": [
    "## Molecular system for test"
   ]
  },
  {
   "cell_type": "code",
   "execution_count": 5,
   "metadata": {},
   "outputs": [],
   "source": [
    "from simtk.openmm import app"
   ]
  },
  {
   "cell_type": "code",
   "execution_count": 6,
   "metadata": {},
   "outputs": [],
   "source": [
    "modeller = msm.build_peptide('aminoacids3:AceAlaNme', to_form='openmm.Modeller', verbose=False)"
   ]
  },
  {
   "cell_type": "code",
   "execution_count": 7,
   "metadata": {},
   "outputs": [
    {
     "data": {
      "text/html": [
       "<style  type=\"text/css\" >\n",
       "</style><table id=\"T_e3db2d1c_d161_11ea_b8da_d320d17b43bb\" ><thead>    <tr>        <th class=\"col_heading level0 col0\" >form</th>        <th class=\"col_heading level0 col1\" >n_atoms</th>        <th class=\"col_heading level0 col2\" >n_groups</th>        <th class=\"col_heading level0 col3\" >n_components</th>        <th class=\"col_heading level0 col4\" >n_chains</th>        <th class=\"col_heading level0 col5\" >n_molecules</th>        <th class=\"col_heading level0 col6\" >n_entities</th>        <th class=\"col_heading level0 col7\" >n_peptides</th>        <th class=\"col_heading level0 col8\" >n_frames</th>    </tr></thead><tbody>\n",
       "                <tr>\n",
       "                                <td id=\"T_e3db2d1c_d161_11ea_b8da_d320d17b43bbrow0_col0\" class=\"data row0 col0\" >openmm.Modeller</td>\n",
       "                        <td id=\"T_e3db2d1c_d161_11ea_b8da_d320d17b43bbrow0_col1\" class=\"data row0 col1\" >22</td>\n",
       "                        <td id=\"T_e3db2d1c_d161_11ea_b8da_d320d17b43bbrow0_col2\" class=\"data row0 col2\" >3</td>\n",
       "                        <td id=\"T_e3db2d1c_d161_11ea_b8da_d320d17b43bbrow0_col3\" class=\"data row0 col3\" >1</td>\n",
       "                        <td id=\"T_e3db2d1c_d161_11ea_b8da_d320d17b43bbrow0_col4\" class=\"data row0 col4\" >1</td>\n",
       "                        <td id=\"T_e3db2d1c_d161_11ea_b8da_d320d17b43bbrow0_col5\" class=\"data row0 col5\" >1</td>\n",
       "                        <td id=\"T_e3db2d1c_d161_11ea_b8da_d320d17b43bbrow0_col6\" class=\"data row0 col6\" >1</td>\n",
       "                        <td id=\"T_e3db2d1c_d161_11ea_b8da_d320d17b43bbrow0_col7\" class=\"data row0 col7\" >1</td>\n",
       "                        <td id=\"T_e3db2d1c_d161_11ea_b8da_d320d17b43bbrow0_col8\" class=\"data row0 col8\" >1</td>\n",
       "            </tr>\n",
       "    </tbody></table>"
      ],
      "text/plain": [
       "<pandas.io.formats.style.Styler at 0x7f8148ac14d0>"
      ]
     },
     "execution_count": 7,
     "metadata": {},
     "output_type": "execute_result"
    }
   ],
   "source": [
    "msm.info(modeller)"
   ]
  },
  {
   "cell_type": "code",
   "execution_count": 8,
   "metadata": {},
   "outputs": [],
   "source": [
    "topology = modeller.topology\n",
    "positions = modeller.positions"
   ]
  },
  {
   "cell_type": "code",
   "execution_count": 9,
   "metadata": {},
   "outputs": [],
   "source": [
    "forcefield = app.ForceField('amber10.xml', 'amber10_obc.xml')\n",
    "system = forcefield.createSystem(topology, constraints=app.HBonds, nonbondedMethod=app.NoCutoff)"
   ]
  },
  {
   "cell_type": "markdown",
   "metadata": {},
   "source": [
    "## Class Explorer"
   ]
  },
  {
   "cell_type": "code",
   "execution_count": 10,
   "metadata": {},
   "outputs": [],
   "source": [
    "import openexplorer as oe"
   ]
  },
  {
   "cell_type": "code",
   "execution_count": 11,
   "metadata": {},
   "outputs": [],
   "source": [
    "explorer = oe.Explorer(topology, system, platform='CPU')"
   ]
  },
  {
   "cell_type": "code",
   "execution_count": 12,
   "metadata": {},
   "outputs": [],
   "source": [
    "explorer.set_coordinates(positions)"
   ]
  },
  {
   "cell_type": "code",
   "execution_count": 13,
   "metadata": {},
   "outputs": [
    {
     "data": {
      "text/plain": [
       "Quantity(value=-396.6280224091801, unit=kilojoule/mole)"
      ]
     },
     "execution_count": 13,
     "metadata": {},
     "output_type": "execute_result"
    }
   ],
   "source": [
    "explorer.get_energy()"
   ]
  },
  {
   "cell_type": "code",
   "execution_count": 14,
   "metadata": {},
   "outputs": [
    {
     "data": {
      "text/plain": [
       "Quantity(value=array([-132.63174387,  -54.29829846,   -0.49873877, ...,  -30.98263885,\n",
       "        -40.30228345,   48.4982662 ]), unit=kilojoule/(nanometer*mole))"
      ]
     },
     "execution_count": 14,
     "metadata": {},
     "output_type": "execute_result"
    }
   ],
   "source": [
    "explorer.get_gradient()"
   ]
  },
  {
   "cell_type": "code",
   "execution_count": 15,
   "metadata": {},
   "outputs": [
    {
     "data": {
      "text/plain": [
       "Quantity(value=array([[ 5.05373778e+04,  1.07695357e+03, -1.06442615e+00, ...,\n",
       "        -2.06947327e+00,  4.19616699e-01,  1.09195709e+00],\n",
       "       [ 1.07695357e+03,  1.79126075e+03, -5.32213987e+00, ...,\n",
       "         2.56299973e-01, -5.15699387e+00,  2.94685364e+00],\n",
       "       [-1.06442615e+00, -5.32213987e+00,  3.64307330e+04, ...,\n",
       "        -4.58210707e-01, -7.98553228e-01, -3.03432345e+00],\n",
       "       ...,\n",
       "       [-2.06947327e+00,  2.56299973e-01, -4.58210707e-01, ...,\n",
       "         2.86548566e+04, -7.05452093e+03,  1.33169965e+04],\n",
       "       [ 4.19616699e-01, -5.15699387e+00, -7.98553228e-01, ...,\n",
       "        -7.05452093e+03,  4.21498269e+04,  1.26384433e+04],\n",
       "       [ 1.09195709e+00,  2.94685364e+00, -3.03432345e+00, ...,\n",
       "         1.33169965e+04,  1.26384433e+04,  1.29973672e+04]]), unit=kilojoule/(nanometer**2*mole))"
      ]
     },
     "execution_count": 15,
     "metadata": {},
     "output_type": "execute_result"
    }
   ],
   "source": [
    "explorer.get_hessian()"
   ]
  },
  {
   "cell_type": "markdown",
   "metadata": {},
   "source": [
    "## Class Move"
   ]
  },
  {
   "cell_type": "code",
   "execution_count": 37,
   "metadata": {},
   "outputs": [],
   "source": [
    "movement = oe.movements.RandomDihedralShifts(stepsize=5*unit.degrees)"
   ]
  },
  {
   "cell_type": "code",
   "execution_count": 38,
   "metadata": {},
   "outputs": [
    {
     "data": {
      "text/plain": [
       "Quantity(value=array([[ 2.00000100e-01,  1.00000000e-01, -1.30000000e-07],\n",
       "       [ 2.00000100e-01,  2.09000000e-01,  1.00000000e-08],\n",
       "       [ 1.48626400e-01,  2.45384900e-01,  8.89824000e-02],\n",
       "       ...,\n",
       "       [ 4.84917851e-01,  8.58117897e-01,  7.30546628e-02],\n",
       "       [ 6.36065909e-01,  8.39952863e-01,  1.65226876e-01],\n",
       "       [ 6.41842131e-01,  8.72170873e-01, -9.70187909e-03]]), unit=nanometer)"
      ]
     },
     "execution_count": 38,
     "metadata": {},
     "output_type": "execute_result"
    }
   ],
   "source": [
    "explorer.get_coordinates()"
   ]
  },
  {
   "cell_type": "code",
   "execution_count": 41,
   "metadata": {},
   "outputs": [],
   "source": [
    "movement(explorer)"
   ]
  },
  {
   "cell_type": "code",
   "execution_count": 42,
   "metadata": {},
   "outputs": [
    {
     "data": {
      "text/plain": [
       "Quantity(value=array([[ 2.00000100e-01,  1.00000000e-01, -1.30000000e-07],\n",
       "       [ 2.00000100e-01,  2.09000000e-01,  1.00000000e-08],\n",
       "       [ 1.48626400e-01,  2.45384900e-01,  8.89824000e-02],\n",
       "       ...,\n",
       "       [ 4.84596934e-01,  8.59140827e-01,  6.72601840e-02],\n",
       "       [ 6.49719848e-01,  8.47062408e-01,  1.32528520e-01],\n",
       "       [ 6.24632643e-01,  8.76394321e-01, -4.12003075e-02]]), unit=nanometer)"
      ]
     },
     "execution_count": 42,
     "metadata": {},
     "output_type": "execute_result"
    }
   ],
   "source": [
    "explorer.get_coordinates()"
   ]
  },
  {
   "cell_type": "code",
   "execution_count": 43,
   "metadata": {},
   "outputs": [
    {
     "ename": "NotImplementedError",
     "evalue": "",
     "output_type": "error",
     "traceback": [
      "\u001b[0;31m---------------------------------------------------------------------------\u001b[0m",
      "\u001b[0;31mNotImplementedError\u001b[0m                       Traceback (most recent call last)",
      "\u001b[0;32m<ipython-input-43-2717d544d230>\u001b[0m in \u001b[0;36m<module>\u001b[0;34m\u001b[0m\n\u001b[0;32m----> 1\u001b[0;31m \u001b[0mmsm\u001b[0m\u001b[0;34m.\u001b[0m\u001b[0mview\u001b[0m\u001b[0;34m(\u001b[0m\u001b[0mexplorer\u001b[0m\u001b[0;34m)\u001b[0m\u001b[0;34m\u001b[0m\u001b[0;34m\u001b[0m\u001b[0m\n\u001b[0m",
      "\u001b[0;32m~/Proyectos/MolSysMT/molsysmt/multitool.py\u001b[0m in \u001b[0;36mview\u001b[0;34m(item, viewer, selection, frame_indices, syntaxis)\u001b[0m\n\u001b[1;32m   1312\u001b[0m \u001b[0;34m\u001b[0m\u001b[0m\n\u001b[1;32m   1313\u001b[0m     return _dict_converter[form_in][viewer](tmp_item, atom_indices=atom_indices,\n\u001b[0;32m-> 1314\u001b[0;31m             frame_indices=frame_indices)\n\u001b[0m\u001b[1;32m   1315\u001b[0m \u001b[0;34m\u001b[0m\u001b[0m\n",
      "\u001b[0;32m~/Proyectos/MolSysMT/molsysmt/forms/classes/api_openexplorer_Explorer.py\u001b[0m in \u001b[0;36mto_nglview\u001b[0;34m(item, atom_indices, frame_indices)\u001b[0m\n\u001b[1;32m     48\u001b[0m \u001b[0;32mdef\u001b[0m \u001b[0mto_nglview\u001b[0m\u001b[0;34m(\u001b[0m\u001b[0mitem\u001b[0m\u001b[0;34m,\u001b[0m \u001b[0matom_indices\u001b[0m\u001b[0;34m=\u001b[0m\u001b[0;34m'all'\u001b[0m\u001b[0;34m,\u001b[0m \u001b[0mframe_indices\u001b[0m\u001b[0;34m=\u001b[0m\u001b[0;34m'all'\u001b[0m\u001b[0;34m)\u001b[0m\u001b[0;34m:\u001b[0m\u001b[0;34m\u001b[0m\u001b[0;34m\u001b[0m\u001b[0m\n\u001b[1;32m     49\u001b[0m \u001b[0;34m\u001b[0m\u001b[0m\n\u001b[0;32m---> 50\u001b[0;31m     \u001b[0;32mraise\u001b[0m \u001b[0mNotImplementedError\u001b[0m\u001b[0;34m\u001b[0m\u001b[0;34m\u001b[0m\u001b[0m\n\u001b[0m\u001b[1;32m     51\u001b[0m \u001b[0;34m\u001b[0m\u001b[0m\n\u001b[1;32m     52\u001b[0m \u001b[0;32mdef\u001b[0m \u001b[0mextract\u001b[0m\u001b[0;34m(\u001b[0m\u001b[0mitem\u001b[0m\u001b[0;34m,\u001b[0m \u001b[0matom_indices\u001b[0m\u001b[0;34m=\u001b[0m\u001b[0;34m'all'\u001b[0m\u001b[0;34m,\u001b[0m \u001b[0mframe_indices\u001b[0m\u001b[0;34m=\u001b[0m\u001b[0;34m'all'\u001b[0m\u001b[0;34m)\u001b[0m\u001b[0;34m:\u001b[0m\u001b[0;34m\u001b[0m\u001b[0;34m\u001b[0m\u001b[0m\n",
      "\u001b[0;31mNotImplementedError\u001b[0m: "
     ]
    }
   ],
   "source": [
    "msm.view(explorer)"
   ]
  },
  {
   "cell_type": "markdown",
   "metadata": {},
   "source": [
    "## Basin Hopping"
   ]
  },
  {
   "cell_type": "code",
   "execution_count": null,
   "metadata": {},
   "outputs": [],
   "source": [
    "import pele.basinhopping as bh\n",
    "from pele.takestep import displace\n",
    "\n",
    "step = displace.RandomDisplacement(stepsize=0.01)\n",
    "\n",
    "opt = bh.BasinHopping(positions.flatten(), potential, takeStep=step)\n",
    "#opt.run(100)"
   ]
  },
  {
   "cell_type": "code",
   "execution_count": null,
   "metadata": {},
   "outputs": [],
   "source": [
    "potential."
   ]
  },
  {
   "cell_type": "code",
   "execution_count": null,
   "metadata": {},
   "outputs": [],
   "source": [
    "import numpy as np"
   ]
  },
  {
   "cell_type": "code",
   "execution_count": null,
   "metadata": {},
   "outputs": [],
   "source": [
    "np.random.choice([-1,1],size=10)"
   ]
  },
  {
   "cell_type": "code",
   "execution_count": null,
   "metadata": {},
   "outputs": [],
   "source": []
  }
 ],
 "metadata": {
  "kernelspec": {
   "display_name": "Python 3",
   "language": "python",
   "name": "python3"
  },
  "language_info": {
   "codemirror_mode": {
    "name": "ipython",
    "version": 3
   },
   "file_extension": ".py",
   "mimetype": "text/x-python",
   "name": "python",
   "nbconvert_exporter": "python",
   "pygments_lexer": "ipython3",
   "version": "3.7.7"
  }
 },
 "nbformat": 4,
 "nbformat_minor": 4
}
