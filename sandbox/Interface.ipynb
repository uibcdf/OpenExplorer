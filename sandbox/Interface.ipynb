{
 "cells": [
  {
   "cell_type": "code",
   "execution_count": 1,
   "metadata": {},
   "outputs": [],
   "source": [
    "%load_ext autoreload\n",
    "%autoreload 2"
   ]
  },
  {
   "cell_type": "code",
   "execution_count": 2,
   "metadata": {},
   "outputs": [
    {
     "data": {
      "application/vnd.jupyter.widget-view+json": {
       "model_id": "eebbebfac07743378bef228c827f4c80",
       "version_major": 2,
       "version_minor": 0
      },
      "text/plain": []
     },
     "metadata": {},
     "output_type": "display_data"
    }
   ],
   "source": [
    "import sys\n",
    "import molsysmt as msm\n",
    "import numpy as np"
   ]
  },
  {
   "cell_type": "code",
   "execution_count": 3,
   "metadata": {},
   "outputs": [],
   "source": [
    "from simtk import unit"
   ]
  },
  {
   "cell_type": "code",
   "execution_count": 4,
   "metadata": {},
   "outputs": [],
   "source": [
    "sys.path.append('/home/diego/Proyectos/PELE_support/original_pele')\n",
    "import pele"
   ]
  },
  {
   "cell_type": "markdown",
   "metadata": {},
   "source": [
    "## Molecular system for test"
   ]
  },
  {
   "cell_type": "code",
   "execution_count": 5,
   "metadata": {},
   "outputs": [],
   "source": [
    "from simtk.openmm import app"
   ]
  },
  {
   "cell_type": "code",
   "execution_count": 6,
   "metadata": {},
   "outputs": [],
   "source": [
    "modeller = msm.build_peptide('aminoacids3:AceAlaNme', to_form='openmm.Modeller', verbose=False)"
   ]
  },
  {
   "cell_type": "code",
   "execution_count": 7,
   "metadata": {},
   "outputs": [
    {
     "data": {
      "text/html": [
       "<style  type=\"text/css\" >\n",
       "</style><table id=\"T_89a9cebc_d1fb_11ea_b66f_c1b33b3ca2cc\" ><thead>    <tr>        <th class=\"col_heading level0 col0\" >form</th>        <th class=\"col_heading level0 col1\" >n_atoms</th>        <th class=\"col_heading level0 col2\" >n_groups</th>        <th class=\"col_heading level0 col3\" >n_components</th>        <th class=\"col_heading level0 col4\" >n_chains</th>        <th class=\"col_heading level0 col5\" >n_molecules</th>        <th class=\"col_heading level0 col6\" >n_entities</th>        <th class=\"col_heading level0 col7\" >n_peptides</th>        <th class=\"col_heading level0 col8\" >n_frames</th>    </tr></thead><tbody>\n",
       "                <tr>\n",
       "                                <td id=\"T_89a9cebc_d1fb_11ea_b66f_c1b33b3ca2ccrow0_col0\" class=\"data row0 col0\" >openmm.Modeller</td>\n",
       "                        <td id=\"T_89a9cebc_d1fb_11ea_b66f_c1b33b3ca2ccrow0_col1\" class=\"data row0 col1\" >22</td>\n",
       "                        <td id=\"T_89a9cebc_d1fb_11ea_b66f_c1b33b3ca2ccrow0_col2\" class=\"data row0 col2\" >3</td>\n",
       "                        <td id=\"T_89a9cebc_d1fb_11ea_b66f_c1b33b3ca2ccrow0_col3\" class=\"data row0 col3\" >1</td>\n",
       "                        <td id=\"T_89a9cebc_d1fb_11ea_b66f_c1b33b3ca2ccrow0_col4\" class=\"data row0 col4\" >1</td>\n",
       "                        <td id=\"T_89a9cebc_d1fb_11ea_b66f_c1b33b3ca2ccrow0_col5\" class=\"data row0 col5\" >1</td>\n",
       "                        <td id=\"T_89a9cebc_d1fb_11ea_b66f_c1b33b3ca2ccrow0_col6\" class=\"data row0 col6\" >1</td>\n",
       "                        <td id=\"T_89a9cebc_d1fb_11ea_b66f_c1b33b3ca2ccrow0_col7\" class=\"data row0 col7\" >1</td>\n",
       "                        <td id=\"T_89a9cebc_d1fb_11ea_b66f_c1b33b3ca2ccrow0_col8\" class=\"data row0 col8\" >1</td>\n",
       "            </tr>\n",
       "    </tbody></table>"
      ],
      "text/plain": [
       "<pandas.io.formats.style.Styler at 0x7fdf0e93fc50>"
      ]
     },
     "execution_count": 7,
     "metadata": {},
     "output_type": "execute_result"
    }
   ],
   "source": [
    "msm.info(modeller)"
   ]
  },
  {
   "cell_type": "code",
   "execution_count": 8,
   "metadata": {},
   "outputs": [],
   "source": [
    "topology = modeller.topology\n",
    "positions = modeller.positions"
   ]
  },
  {
   "cell_type": "code",
   "execution_count": 9,
   "metadata": {},
   "outputs": [],
   "source": [
    "forcefield = app.ForceField('amber10.xml', 'amber10_obc.xml')\n",
    "system = forcefield.createSystem(topology, constraints=app.HBonds, nonbondedMethod=app.NoCutoff)"
   ]
  },
  {
   "cell_type": "markdown",
   "metadata": {},
   "source": [
    "## Class Explorer"
   ]
  },
  {
   "cell_type": "code",
   "execution_count": 11,
   "metadata": {},
   "outputs": [],
   "source": [
    "import openexplorer as oe"
   ]
  },
  {
   "cell_type": "code",
   "execution_count": 12,
   "metadata": {},
   "outputs": [],
   "source": [
    "explorer = oe.Explorer(topology, system, platform='CPU')"
   ]
  },
  {
   "cell_type": "code",
   "execution_count": 13,
   "metadata": {},
   "outputs": [],
   "source": [
    "explorer.set_coordinates(positions)"
   ]
  },
  {
   "cell_type": "code",
   "execution_count": 14,
   "metadata": {},
   "outputs": [
    {
     "data": {
      "text/plain": [
       "Quantity(value=-396.6280224091801, unit=kilojoule/mole)"
      ]
     },
     "execution_count": 14,
     "metadata": {},
     "output_type": "execute_result"
    }
   ],
   "source": [
    "explorer.get_energy()"
   ]
  },
  {
   "cell_type": "code",
   "execution_count": 15,
   "metadata": {},
   "outputs": [
    {
     "data": {
      "text/plain": [
       "Quantity(value=array([-132.63174005,  -54.29829655,   -0.49873877, ...,  -30.98263217,\n",
       "        -40.30227582,   48.4982662 ]), unit=kilojoule/(nanometer*mole))"
      ]
     },
     "execution_count": 15,
     "metadata": {},
     "output_type": "execute_result"
    }
   ],
   "source": [
    "explorer.get_gradient()"
   ]
  },
  {
   "cell_type": "code",
   "execution_count": 16,
   "metadata": {},
   "outputs": [
    {
     "data": {
      "text/plain": [
       "Quantity(value=array([[ 5.05374159e+04,  1.07696311e+03, -1.08349963e+00, ...,\n",
       "        -2.08139420e+00,  4.38690186e-01,  1.09434128e+00],\n",
       "       [ 1.07696311e+03,  1.79123214e+03, -5.33853114e+00, ...,\n",
       "         2.71797180e-01, -5.16891479e+00,  2.99692154e+00],\n",
       "       [-1.08349963e+00, -5.33853114e+00,  3.64307332e+04, ...,\n",
       "        -4.61339951e-01, -8.08238983e-01, -3.04862857e+00],\n",
       "       ...,\n",
       "       [-2.08139420e+00,  2.71797180e-01, -4.61339951e-01, ...,\n",
       "         2.86548566e+04, -7.05451408e+03,  1.33169682e+04],\n",
       "       [ 4.38690186e-01, -5.16891479e+00, -8.08238983e-01, ...,\n",
       "        -7.05451408e+03,  4.21496934e+04,  1.26383980e+04],\n",
       "       [ 1.09434128e+00,  2.99692154e+00, -3.04862857e+00, ...,\n",
       "         1.33169682e+04,  1.26383980e+04,  1.29974244e+04]]), unit=kilojoule/(nanometer**2*mole))"
      ]
     },
     "execution_count": 16,
     "metadata": {},
     "output_type": "execute_result"
    }
   ],
   "source": [
    "explorer.get_hessian()"
   ]
  },
  {
   "cell_type": "markdown",
   "metadata": {},
   "source": [
    "## Class Move"
   ]
  },
  {
   "cell_type": "code",
   "execution_count": 17,
   "metadata": {},
   "outputs": [],
   "source": [
    "movement = oe.movements.RandomDihedralShifts(stepsize=5*unit.degrees)"
   ]
  },
  {
   "cell_type": "code",
   "execution_count": 23,
   "metadata": {},
   "outputs": [],
   "source": [
    "movement(explorer)"
   ]
  },
  {
   "cell_type": "code",
   "execution_count": 24,
   "metadata": {},
   "outputs": [
    {
     "data": {
      "application/vnd.jupyter.widget-view+json": {
       "model_id": "9a6719547311419f97d77fba9d1ce7ea",
       "version_major": 2,
       "version_minor": 0
      },
      "text/plain": [
       "NGLWidget()"
      ]
     },
     "metadata": {},
     "output_type": "display_data"
    }
   ],
   "source": [
    "view = msm.view(explorer)\n",
    "view.clear()\n",
    "view.add_licorice()\n",
    "view"
   ]
  },
  {
   "cell_type": "markdown",
   "metadata": {},
   "source": [
    "## Basin Hopping"
   ]
  },
  {
   "cell_type": "code",
   "execution_count": null,
   "metadata": {},
   "outputs": [],
   "source": [
    "import pele.basinhopping as bh\n",
    "from pele.takestep import displace\n",
    "\n",
    "step = displace.RandomDisplacement(stepsize=0.01)\n",
    "\n",
    "opt = bh.BasinHopping(positions.flatten(), potential, takeStep=step)\n",
    "#opt.run(100)"
   ]
  },
  {
   "cell_type": "code",
   "execution_count": null,
   "metadata": {},
   "outputs": [],
   "source": [
    "potential."
   ]
  },
  {
   "cell_type": "code",
   "execution_count": null,
   "metadata": {},
   "outputs": [],
   "source": [
    "import numpy as np"
   ]
  },
  {
   "cell_type": "code",
   "execution_count": null,
   "metadata": {},
   "outputs": [],
   "source": [
    "np.random.choice([-1,1],size=10)"
   ]
  },
  {
   "cell_type": "code",
   "execution_count": null,
   "metadata": {},
   "outputs": [],
   "source": []
  }
 ],
 "metadata": {
  "kernelspec": {
   "display_name": "Python 3",
   "language": "python",
   "name": "python3"
  },
  "language_info": {
   "codemirror_mode": {
    "name": "ipython",
    "version": 3
   },
   "file_extension": ".py",
   "mimetype": "text/x-python",
   "name": "python",
   "nbconvert_exporter": "python",
   "pygments_lexer": "ipython3",
   "version": "3.7.7"
  }
 },
 "nbformat": 4,
 "nbformat_minor": 4
}
