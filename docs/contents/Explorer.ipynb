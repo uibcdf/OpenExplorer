{
 "cells": [
  {
   "cell_type": "code",
   "execution_count": 1,
   "metadata": {},
   "outputs": [],
   "source": [
    "%load_ext autoreload\n",
    "%autoreload 2"
   ]
  },
  {
   "cell_type": "code",
   "execution_count": 2,
   "metadata": {},
   "outputs": [
    {
     "data": {
      "application/vnd.jupyter.widget-view+json": {
       "model_id": "39d8d9c21f704ed2b4d4a990cb837b01",
       "version_major": 2,
       "version_minor": 0
      },
      "text/plain": []
     },
     "metadata": {},
     "output_type": "display_data"
    }
   ],
   "source": [
    "import molsysmt as msm\n",
    "import openexplorer as oe\n",
    "import numpy as np\n",
    "from simtk import unit\n",
    "from simtk.openmm import app"
   ]
  },
  {
   "cell_type": "markdown",
   "metadata": {},
   "source": [
    "# Explorer"
   ]
  },
  {
   "cell_type": "code",
   "execution_count": 3,
   "metadata": {},
   "outputs": [],
   "source": [
    "modeller = msm.convert('alanine_dipeptide.pdb', to_form='openmm.Modeller')\n",
    "\n",
    "topology = modeller.topology\n",
    "positions = modeller.positions\n",
    "\n",
    "forcefield = app.ForceField('amber10.xml', 'amber10_obc.xml')\n",
    "system = forcefield.createSystem(topology, constraints=app.HBonds, nonbondedMethod=app.NoCutoff)"
   ]
  },
  {
   "cell_type": "code",
   "execution_count": 4,
   "metadata": {},
   "outputs": [],
   "source": [
    "explorer = oe.Explorer(topology, system, platform='CUDA')"
   ]
  },
  {
   "cell_type": "code",
   "execution_count": 5,
   "metadata": {},
   "outputs": [],
   "source": [
    "explorer.set_coordinates(positions)"
   ]
  },
  {
   "cell_type": "code",
   "execution_count": 6,
   "metadata": {},
   "outputs": [
    {
     "data": {
      "text/plain": [
       "Quantity(value=-396.6264131183634, unit=kilojoule/mole)"
      ]
     },
     "execution_count": 6,
     "metadata": {},
     "output_type": "execute_result"
    }
   ],
   "source": [
    "explorer.get_potential_energy()"
   ]
  },
  {
   "cell_type": "code",
   "execution_count": 7,
   "metadata": {},
   "outputs": [
    {
     "data": {
      "text/plain": [
       "Quantity(value=array([-133.44739195,  -54.32333565,   -0.50034606, ...,  -30.63325882,\n",
       "        -39.7379766 ,   48.88874912]), unit=kilojoule/(nanometer*mole))"
      ]
     },
     "execution_count": 7,
     "metadata": {},
     "output_type": "execute_result"
    }
   ],
   "source": [
    "explorer.get_potential_energy_gradient()"
   ]
  },
  {
   "cell_type": "code",
   "execution_count": 8,
   "metadata": {},
   "outputs": [
    {
     "data": {
      "text/plain": [
       "Quantity(value=array([[ 5.05388963e+04,  1.06897829e+03, -1.06029212e+00, ...,\n",
       "        -2.26020813e+00,  3.76701355e-01,  1.09523535e+00],\n",
       "       [ 1.06897829e+03,  1.79097176e+03, -5.19663095e+00, ...,\n",
       "         2.57492065e-01, -5.23567200e+00,  2.85476446e+00],\n",
       "       [-1.06029212e+00, -5.19663095e+00,  3.64227622e+04, ...,\n",
       "        -4.68865037e-01, -8.25077295e-01, -2.98641622e+00],\n",
       "       ...,\n",
       "       [-2.26020813e+00,  2.57492065e-01, -4.68865037e-01, ...,\n",
       "         2.86250627e+04, -7.06073709e+03,  1.33075247e+04],\n",
       "       [ 3.76701355e-01, -5.23567200e+00, -8.25077295e-01, ...,\n",
       "        -7.06073709e+03,  4.21209735e+04,  1.26333798e+04],\n",
       "       [ 1.09523535e+00,  2.85476446e+00, -2.98641622e+00, ...,\n",
       "         1.33075247e+04,  1.26333798e+04,  1.29986800e+04]]), unit=kilojoule/(nanometer**2*mole))"
      ]
     },
     "execution_count": 8,
     "metadata": {},
     "output_type": "execute_result"
    }
   ],
   "source": [
    "explorer.get_potential_energy_hessian()"
   ]
  },
  {
   "cell_type": "code",
   "execution_count": 9,
   "metadata": {},
   "outputs": [
    {
     "data": {
      "text/plain": [
       "Quantity(value=-493.08588450653554, unit=kilojoule/mole)"
      ]
     },
     "execution_count": 9,
     "metadata": {},
     "output_type": "execute_result"
    }
   ],
   "source": [
    "explorer.quench.l_bfgs()\n",
    "explorer.get_potential_energy()"
   ]
  },
  {
   "cell_type": "code",
   "execution_count": 10,
   "metadata": {},
   "outputs": [
    {
     "data": {
      "text/plain": [
       "Quantity(value=-446.3401980508352, unit=kilojoule/mole)"
      ]
     },
     "execution_count": 10,
     "metadata": {},
     "output_type": "execute_result"
    }
   ],
   "source": [
    "explorer.md.langevin.run(500)\n",
    "explorer.get_potential_energy()"
   ]
  },
  {
   "cell_type": "code",
   "execution_count": 11,
   "metadata": {},
   "outputs": [
    {
     "data": {
      "text/plain": [
       "Quantity(value=-493.08771843577887, unit=kilojoule/mole)"
      ]
     },
     "execution_count": 11,
     "metadata": {},
     "output_type": "execute_result"
    }
   ],
   "source": [
    "explorer.quench.l_bfgs()\n",
    "explorer.get_potential_energy()"
   ]
  },
  {
   "cell_type": "code",
   "execution_count": 12,
   "metadata": {},
   "outputs": [
    {
     "data": {
      "text/plain": [
       "Quantity(value=-450.38046432135036, unit=kilojoule/mole)"
      ]
     },
     "execution_count": 12,
     "metadata": {},
     "output_type": "execute_result"
    }
   ],
   "source": [
    "explorer.md.langevin.run(500)\n",
    "explorer.get_potential_energy()"
   ]
  },
  {
   "cell_type": "code",
   "execution_count": 13,
   "metadata": {},
   "outputs": [
    {
     "data": {
      "text/plain": [
       "Quantity(value=-492.9630107758028, unit=kilojoule/mole)"
      ]
     },
     "execution_count": 13,
     "metadata": {},
     "output_type": "execute_result"
    }
   ],
   "source": [
    "explorer.quench.fire()\n",
    "explorer.get_potential_energy()"
   ]
  },
  {
   "cell_type": "code",
   "execution_count": 14,
   "metadata": {},
   "outputs": [
    {
     "data": {
      "text/plain": [
       "Quantity(value=-448.6045612960588, unit=kilojoule/mole)"
      ]
     },
     "execution_count": 14,
     "metadata": {},
     "output_type": "execute_result"
    }
   ],
   "source": [
    "explorer.md.langevin.run(500)\n",
    "explorer.get_potential_energy()"
   ]
  },
  {
   "cell_type": "code",
   "execution_count": 15,
   "metadata": {},
   "outputs": [
    {
     "data": {
      "text/plain": [
       "Quantity(value=-482.7583263794877, unit=kilojoule/mole)"
      ]
     },
     "execution_count": 15,
     "metadata": {},
     "output_type": "execute_result"
    }
   ],
   "source": [
    "explorer.quench.gradient_descent()\n",
    "explorer.get_potential_energy()"
   ]
  },
  {
   "cell_type": "code",
   "execution_count": 16,
   "metadata": {},
   "outputs": [
    {
     "data": {
      "text/plain": [
       "Quantity(value=112321.39635961907, unit=kilojoule/mole)"
      ]
     },
     "execution_count": 16,
     "metadata": {},
     "output_type": "execute_result"
    }
   ],
   "source": [
    "explorer.move.random_atoms_shifts()\n",
    "explorer.get_potential_energy()"
   ]
  },
  {
   "cell_type": "code",
   "execution_count": 18,
   "metadata": {},
   "outputs": [
    {
     "data": {
      "text/plain": [
       "Quantity(value=9655.628975803522, unit=kilojoule/mole)"
      ]
     },
     "execution_count": 18,
     "metadata": {},
     "output_type": "execute_result"
    }
   ],
   "source": [
    "explorer.move.random_atoms_max_shifts()\n",
    "explorer.get_potential_energy()"
   ]
  },
  {
   "cell_type": "code",
   "execution_count": 23,
   "metadata": {},
   "outputs": [
    {
     "data": {
      "text/plain": [
       "Quantity(value=109.356573717571, unit=kilojoule/mole)"
      ]
     },
     "execution_count": 23,
     "metadata": {},
     "output_type": "execute_result"
    }
   ],
   "source": [
    "explorer.move.random_atoms_rsmd()\n",
    "explorer.get_potential_energy()"
   ]
  },
  {
   "cell_type": "code",
   "execution_count": 26,
   "metadata": {},
   "outputs": [
    {
     "data": {
      "text/plain": [
       "Quantity(value=131.69271136512907, unit=kilojoule/mole)"
      ]
     },
     "execution_count": 26,
     "metadata": {},
     "output_type": "execute_result"
    }
   ],
   "source": [
    "explorer.move.random_atoms_max_rsmd()\n",
    "explorer.get_potential_energy()"
   ]
  },
  {
   "cell_type": "code",
   "execution_count": 37,
   "metadata": {},
   "outputs": [
    {
     "data": {
      "text/plain": [
       "Quantity(value=-492.83691358587294, unit=kilojoule/mole)"
      ]
     },
     "execution_count": 37,
     "metadata": {},
     "output_type": "execute_result"
    }
   ],
   "source": [
    "explorer.move.random_dihedral_shifts()\n",
    "explorer.get_potential_energy()"
   ]
  },
  {
   "cell_type": "code",
   "execution_count": 41,
   "metadata": {},
   "outputs": [
    {
     "data": {
      "text/plain": [
       "Quantity(value=-492.87225709763345, unit=kilojoule/mole)"
      ]
     },
     "execution_count": 41,
     "metadata": {},
     "output_type": "execute_result"
    }
   ],
   "source": [
    "explorer.move.random_dihedral_max_shifts()\n",
    "explorer.get_potential_energy()"
   ]
  },
  {
   "cell_type": "code",
   "execution_count": 45,
   "metadata": {},
   "outputs": [
    {
     "data": {
      "text/plain": [
       "Quantity(value=-492.7474030060737, unit=kilojoule/mole)"
      ]
     },
     "execution_count": 45,
     "metadata": {},
     "output_type": "execute_result"
    }
   ],
   "source": [
    "explorer.move.random_dihedral_rmsd()\n",
    "explorer.get_potential_energy()"
   ]
  },
  {
   "cell_type": "code",
   "execution_count": 48,
   "metadata": {},
   "outputs": [
    {
     "data": {
      "text/plain": [
       "Quantity(value=-492.9769793812686, unit=kilojoule/mole)"
      ]
     },
     "execution_count": 48,
     "metadata": {},
     "output_type": "execute_result"
    }
   ],
   "source": [
    "explorer.move.random_dihedral_max_rmsd()\n",
    "explorer.get_potential_energy()"
   ]
  },
  {
   "cell_type": "code",
   "execution_count": 49,
   "metadata": {},
   "outputs": [
    {
     "data": {
      "text/plain": [
       "Quantity(value=-493.07774038421087, unit=kilojoule/mole)"
      ]
     },
     "execution_count": 49,
     "metadata": {},
     "output_type": "execute_result"
    }
   ],
   "source": [
    "explorer.quench.l_bfgs()\n",
    "explorer.get_potential_energy()"
   ]
  },
  {
   "cell_type": "code",
   "execution_count": null,
   "metadata": {},
   "outputs": [],
   "source": []
  }
 ],
 "metadata": {
  "kernelspec": {
   "display_name": "Python 3",
   "language": "python",
   "name": "python3"
  },
  "language_info": {
   "codemirror_mode": {
    "name": "ipython",
    "version": 3
   },
   "file_extension": ".py",
   "mimetype": "text/x-python",
   "name": "python",
   "nbconvert_exporter": "python",
   "pygments_lexer": "ipython3",
   "version": "3.7.7"
  }
 },
 "nbformat": 4,
 "nbformat_minor": 4
}
