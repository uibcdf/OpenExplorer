{
 "cells": [
  {
   "cell_type": "code",
   "execution_count": null,
   "metadata": {},
   "outputs": [],
   "source": [
    "%load_ext autoreload\n",
    "%autoreload 2"
   ]
  },
  {
   "cell_type": "code",
   "execution_count": null,
   "metadata": {},
   "outputs": [],
   "source": [
    "import molsysmt as msm\n",
    "import openexplorer as oe\n",
    "import numpy as np\n",
    "from simtk import unit\n",
    "from simtk.openmm import app\n",
    "from tqdm import tqdm\n",
    "import matplotlib.pyplot as plt"
   ]
  },
  {
   "cell_type": "markdown",
   "metadata": {},
   "source": [
    "# MonteCarlo\n",
    "\n",
    "Metropolis, N., Rosenbluth, A. W., Rosenbluth, M. N., Teller, A. H., & Teller, E. (1953). Equation of state calculations by fast computing machines. The journal of chemical physics, 21(6), 1087-1092.\n",
    "\n",
    "Metropolis, N., & Ulam, S. (1949). The monte carlo method. Journal of the American statistical association, 44(247), 335-341.\n",
    "\n",
    "## Goal\n",
    "\n",
    "- Global optimization\n",
    "- Free energy exploration\n",
    "- Equilibrium magnitudes and distribution\n",
    "- Thermodinamic magnitudes"
   ]
  },
  {
   "cell_type": "markdown",
   "metadata": {},
   "source": [
    "## Exploration Strategy"
   ]
  },
  {
   "cell_type": "code",
   "execution_count": null,
   "metadata": {},
   "outputs": [],
   "source": [
    "#modeller = msm.convert('alanine_dipeptide.pdb', to_form='openmm.Modeller')\n",
    "modeller = msm.convert('alanine_tetrapeptide.pdb', to_form='openmm.Modeller')\n",
    "\n",
    "topology = modeller.topology\n",
    "positions = modeller.positions\n",
    "\n",
    "forcefield = app.ForceField('amber10.xml', 'amber10_obc.xml')\n",
    "\n",
    "system = forcefield.createSystem(topology, nonbondedMethod=app.NoCutoff, #constraints=app.HBonds,\n",
    "                                implicitSolvent=app.OBC2, soluteDielectric=1.0,\n",
    "                                 solventDielectric=78.5)"
   ]
  },
  {
   "cell_type": "code",
   "execution_count": null,
   "metadata": {},
   "outputs": [],
   "source": [
    "explorer = oe.Explorer(topology, system, platform='CUDA')\n",
    "explorer.set_coordinates(positions)"
   ]
  },
  {
   "cell_type": "code",
   "execution_count": null,
   "metadata": {},
   "outputs": [],
   "source": [
    "quartets = msm.covalent_dihedral_quartets(explorer, dihedral_angle='all')\n",
    "print(msm.get_dihedral_angles(explorer, quartets=quartets))"
   ]
  },
  {
   "cell_type": "code",
   "execution_count": null,
   "metadata": {},
   "outputs": [],
   "source": [
    "print(explorer.get_potential_energy())"
   ]
  },
  {
   "cell_type": "markdown",
   "metadata": {},
   "source": [
    "- random move\n",
    "- accept"
   ]
  },
  {
   "cell_type": "code",
   "execution_count": null,
   "metadata": {},
   "outputs": [],
   "source": [
    "explorer.move.dihedral_shifts.set_parameters(dihedral_angle='all', mode_angles='random',\n",
    "                                             n_random_angles=1, stepsize=1.5*unit.degrees,\n",
    "                                             mode_steps='random')"
   ]
  },
  {
   "cell_type": "code",
   "execution_count": null,
   "metadata": {},
   "outputs": [],
   "source": [
    "explorer.acceptance.metropolis_hastings.set_parameters(temperature=500.0*unit.kelvin)"
   ]
  },
  {
   "cell_type": "code",
   "execution_count": null,
   "metadata": {},
   "outputs": [],
   "source": [
    "n_montecarlo_moves = 250000\n",
    "\n",
    "traj = [] * unit.degrees\n",
    "global_minimum_potential_energy = np.inf * unit.kilojoules_per_mole\n",
    "\n",
    "coordinates = explorer.get_coordinates()\n",
    "potential_energy = explorer.get_potential_energy()\n",
    "global_minimum_potential_energy = potential_energy\n",
    "global_minimum_coordinates = coordinates\n",
    "\n",
    "angles = msm.get_dihedral_angles(explorer, quartets=quartets)\n",
    "traj.append(angles)\n",
    "\n",
    "previous_coordinates = coordinates\n",
    "previous_potential_energy = potential_energy\n",
    "\n",
    "for _ in tqdm(range(n_montecarlo_moves)):\n",
    "    \n",
    "    explorer.move.dihedral_shifts()\n",
    "    coordinates = explorer.get_coordinates()\n",
    "    potential_energy = explorer.get_potential_energy()\n",
    "    explorer.acceptance.metropolis_hastings(previous_coordinates=previous_coordinates,\n",
    "                                           previous_potential_energy=previous_potential_energy,\n",
    "                                           coordinates=coordinates,\n",
    "                                           potential_energy=potential_energy)\n",
    "    \n",
    "    if explorer.acceptance.metropolis_hastings.accepted:\n",
    "        previous_coordinates = coordinates\n",
    "        previous_potential_energy = potential_energy\n",
    "        angles = msm.get_dihedral_angles(explorer, quartets=quartets)\n",
    "        if potential_energy < global_minimum_potential_energy:\n",
    "            global_minimum_potential_energy = potential_energy\n",
    "            global_minimum_coordinates = coordinates\n",
    "\n",
    "    traj.append(angles)"
   ]
  },
  {
   "cell_type": "code",
   "execution_count": null,
   "metadata": {},
   "outputs": [],
   "source": [
    "explorer.acceptance.metropolis_hastings.n_tries"
   ]
  },
  {
   "cell_type": "code",
   "execution_count": null,
   "metadata": {},
   "outputs": [],
   "source": [
    "explorer.acceptance.metropolis_hastings.n_accepted"
   ]
  },
  {
   "cell_type": "code",
   "execution_count": null,
   "metadata": {},
   "outputs": [],
   "source": [
    "global_minimum_potential_energy"
   ]
  },
  {
   "cell_type": "code",
   "execution_count": null,
   "metadata": {},
   "outputs": [],
   "source": [
    "traj._value = np.array(traj._value)"
   ]
  },
  {
   "cell_type": "code",
   "execution_count": null,
   "metadata": {},
   "outputs": [],
   "source": [
    "print(traj.shape)"
   ]
  },
  {
   "cell_type": "code",
   "execution_count": null,
   "metadata": {},
   "outputs": [],
   "source": [
    "plt.scatter(traj[:,0,0], traj[:,0,1])\n",
    "plt.show()"
   ]
  },
  {
   "cell_type": "code",
   "execution_count": null,
   "metadata": {},
   "outputs": [],
   "source": [
    "import seaborn as sns\n",
    "\n",
    "ax = sns.kdeplot(traj[:,0,0], traj[:,0,1], shade=True)\n",
    "ax.set_xlim(-180.0,180.0)\n",
    "ax.set_ylim(-180.0,180.0)\n",
    "ax.set_xticks([-180.0, -90.0, 0.0, 90.0, 180.0])\n",
    "ax.set_yticks([-180.0, -90.0, 0.0, 90.0, 180.0])\n",
    "ax.set_xlabel('$\\phi_1$')\n",
    "ax.set_ylabel('$\\psi_1$')\n",
    "ax.set_aspect('equal')"
   ]
  },
  {
   "cell_type": "code",
   "execution_count": null,
   "metadata": {},
   "outputs": [],
   "source": []
  }
 ],
 "metadata": {
  "kernelspec": {
   "display_name": "Python 3",
   "language": "python",
   "name": "python3"
  },
  "language_info": {
   "codemirror_mode": {
    "name": "ipython",
    "version": 3
   },
   "file_extension": ".py",
   "mimetype": "text/x-python",
   "name": "python",
   "nbconvert_exporter": "python",
   "pygments_lexer": "ipython3",
   "version": "3.7.8"
  }
 },
 "nbformat": 4,
 "nbformat_minor": 4
}
