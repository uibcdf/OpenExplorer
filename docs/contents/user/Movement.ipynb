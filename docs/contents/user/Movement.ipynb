{
 "cells": [
  {
   "cell_type": "code",
   "execution_count": 1,
   "metadata": {},
   "outputs": [],
   "source": [
    "%load_ext autoreload\n",
    "%autoreload 2"
   ]
  },
  {
   "cell_type": "code",
   "execution_count": 2,
   "metadata": {},
   "outputs": [
    {
     "data": {
      "application/vnd.jupyter.widget-view+json": {
       "model_id": "a033e91ca91e419ab1b8a17e674b9e50",
       "version_major": 2,
       "version_minor": 0
      },
      "text/plain": []
     },
     "metadata": {},
     "output_type": "display_data"
    }
   ],
   "source": [
    "import molsysmt as msm\n",
    "import openexplorer as oe\n",
    "import numpy as np\n",
    "from simtk import unit\n",
    "from simtk.openmm import app"
   ]
  },
  {
   "cell_type": "markdown",
   "metadata": {},
   "source": [
    "# Movement"
   ]
  },
  {
   "cell_type": "code",
   "execution_count": 3,
   "metadata": {},
   "outputs": [],
   "source": [
    "topology = msm.convert('alanine_dipeptide.pdb', to_form='openmm.Topology')\n",
    "forcefield = app.ForceField('amber10.xml', 'amber10_obc.xml')\n",
    "system = forcefield.createSystem(topology, constraints=app.HBonds, nonbondedMethod=app.NoCutoff)\n",
    "explorer = oe.Explorer(topology, system, platform='CUDA')"
   ]
  },
  {
   "cell_type": "code",
   "execution_count": 4,
   "metadata": {},
   "outputs": [],
   "source": [
    "initial_positions = msm.get('alanine_dipeptide.pdb', coordinates=True)[0]\n",
    "explorer.set_coordinates(initial_positions)"
   ]
  },
  {
   "cell_type": "code",
   "execution_count": 5,
   "metadata": {},
   "outputs": [],
   "source": [
    "explorer_init = explorer.replicate()\n",
    "msm.translate(explorer_init, [-1.0, 0.0, 0.0]*unit.nanometers)"
   ]
  },
  {
   "cell_type": "markdown",
   "metadata": {},
   "source": [
    "## Random shifts in cartesian coordinates"
   ]
  },
  {
   "cell_type": "code",
   "execution_count": 6,
   "metadata": {},
   "outputs": [
    {
     "data": {
      "application/vnd.jupyter.widget-view+json": {
       "model_id": "cece16ac29954702a6a7124685e867af",
       "version_major": 2,
       "version_minor": 0
      },
      "text/plain": [
       "NGLWidget()"
      ]
     },
     "metadata": {},
     "output_type": "display_data"
    }
   ],
   "source": [
    "msm.view([explorer_init, explorer])"
   ]
  },
  {
   "cell_type": "code",
   "execution_count": 7,
   "metadata": {},
   "outputs": [
    {
     "data": {
      "text/markdown": [
       "|                | parameters              |\n",
       "|:---------------|:------------------------|\n",
       "| mode_atoms     | random                  |\n",
       "| mode_steps     | random                  |\n",
       "| atom_indices   | [ 0  1  2 ... 19 20 21] |\n",
       "| n_random_atoms | 1                       |\n",
       "| step_size      | 0.25 nm                 |"
      ],
      "text/plain": [
       "<IPython.core.display.Markdown object>"
      ]
     },
     "metadata": {},
     "output_type": "display_data"
    }
   ],
   "source": [
    "explorer.move.cartesian_shifts.show_parameters()"
   ]
  },
  {
   "cell_type": "code",
   "execution_count": 8,
   "metadata": {},
   "outputs": [],
   "source": [
    "explorer.move.cartesian_shifts.run()"
   ]
  },
  {
   "cell_type": "code",
   "execution_count": 9,
   "metadata": {},
   "outputs": [
    {
     "data": {
      "text/plain": [
       "array([9])"
      ]
     },
     "execution_count": 9,
     "metadata": {},
     "output_type": "execute_result"
    }
   ],
   "source": [
    "explorer.move.cartesian_shifts.atoms_moved"
   ]
  },
  {
   "cell_type": "code",
   "execution_count": 10,
   "metadata": {},
   "outputs": [
    {
     "data": {
      "text/html": [
       "<style  type=\"text/css\" >\n",
       "</style><table id=\"T_286e8584_44bf_11eb_8ad0_e4b318d1f092\" ><thead>    <tr>        <th class=\"col_heading level0 col0\" >index</th>        <th class=\"col_heading level0 col1\" >id</th>        <th class=\"col_heading level0 col2\" >name</th>        <th class=\"col_heading level0 col3\" >type</th>        <th class=\"col_heading level0 col4\" >group index</th>        <th class=\"col_heading level0 col5\" >group id</th>        <th class=\"col_heading level0 col6\" >group name</th>        <th class=\"col_heading level0 col7\" >group type</th>        <th class=\"col_heading level0 col8\" >component index</th>        <th class=\"col_heading level0 col9\" >chain index</th>        <th class=\"col_heading level0 col10\" >molecule index</th>        <th class=\"col_heading level0 col11\" >molecule type</th>        <th class=\"col_heading level0 col12\" >entity index</th>        <th class=\"col_heading level0 col13\" >entity name</th>    </tr></thead><tbody>\n",
       "                <tr>\n",
       "                                <td id=\"T_286e8584_44bf_11eb_8ad0_e4b318d1f092row0_col0\" class=\"data row0 col0\" >9</td>\n",
       "                        <td id=\"T_286e8584_44bf_11eb_8ad0_e4b318d1f092row0_col1\" class=\"data row0 col1\" >10</td>\n",
       "                        <td id=\"T_286e8584_44bf_11eb_8ad0_e4b318d1f092row0_col2\" class=\"data row0 col2\" >HA</td>\n",
       "                        <td id=\"T_286e8584_44bf_11eb_8ad0_e4b318d1f092row0_col3\" class=\"data row0 col3\" >H</td>\n",
       "                        <td id=\"T_286e8584_44bf_11eb_8ad0_e4b318d1f092row0_col4\" class=\"data row0 col4\" >1</td>\n",
       "                        <td id=\"T_286e8584_44bf_11eb_8ad0_e4b318d1f092row0_col5\" class=\"data row0 col5\" >2</td>\n",
       "                        <td id=\"T_286e8584_44bf_11eb_8ad0_e4b318d1f092row0_col6\" class=\"data row0 col6\" >ALA</td>\n",
       "                        <td id=\"T_286e8584_44bf_11eb_8ad0_e4b318d1f092row0_col7\" class=\"data row0 col7\" >aminoacid</td>\n",
       "                        <td id=\"T_286e8584_44bf_11eb_8ad0_e4b318d1f092row0_col8\" class=\"data row0 col8\" >0</td>\n",
       "                        <td id=\"T_286e8584_44bf_11eb_8ad0_e4b318d1f092row0_col9\" class=\"data row0 col9\" >0</td>\n",
       "                        <td id=\"T_286e8584_44bf_11eb_8ad0_e4b318d1f092row0_col10\" class=\"data row0 col10\" >0</td>\n",
       "                        <td id=\"T_286e8584_44bf_11eb_8ad0_e4b318d1f092row0_col11\" class=\"data row0 col11\" >peptide</td>\n",
       "                        <td id=\"T_286e8584_44bf_11eb_8ad0_e4b318d1f092row0_col12\" class=\"data row0 col12\" >0</td>\n",
       "                        <td id=\"T_286e8584_44bf_11eb_8ad0_e4b318d1f092row0_col13\" class=\"data row0 col13\" >Peptide_0</td>\n",
       "            </tr>\n",
       "    </tbody></table>"
      ],
      "text/plain": [
       "<pandas.io.formats.style.Styler at 0x7f0b90e32310>"
      ]
     },
     "execution_count": 10,
     "metadata": {},
     "output_type": "execute_result"
    }
   ],
   "source": [
    "msm.info(explorer, target='atom', selection=explorer.move.cartesian_shifts.atoms_moved)"
   ]
  },
  {
   "cell_type": "code",
   "execution_count": 11,
   "metadata": {},
   "outputs": [
    {
     "data": {
      "text/plain": [
       "Quantity(value=array([[ 0.03559114, -0.08194318, -0.19578144]]), unit=nanometer)"
      ]
     },
     "execution_count": 11,
     "metadata": {},
     "output_type": "execute_result"
    }
   ],
   "source": [
    "explorer.move.cartesian_shifts.shifts_moved"
   ]
  },
  {
   "cell_type": "code",
   "execution_count": 12,
   "metadata": {},
   "outputs": [
    {
     "data": {
      "application/vnd.jupyter.widget-view+json": {
       "model_id": "c7c469ed08964f0b9c5142180e4c4ed1",
       "version_major": 2,
       "version_minor": 0
      },
      "text/plain": [
       "NGLWidget()"
      ]
     },
     "metadata": {},
     "output_type": "display_data"
    }
   ],
   "source": [
    "msm.view([explorer_init, explorer])"
   ]
  },
  {
   "cell_type": "code",
   "execution_count": 13,
   "metadata": {},
   "outputs": [],
   "source": [
    "explorer.move.cartesian_shifts.set_parameters(selection='atom_name==\"C\"', mode_atoms='all',\n",
    "                                              mode_steps='rmsd', step_size=0.3*unit.nanometers)"
   ]
  },
  {
   "cell_type": "code",
   "execution_count": 14,
   "metadata": {},
   "outputs": [
    {
     "data": {
      "text/markdown": [
       "|                | parameters   |\n",
       "|:---------------|:-------------|\n",
       "| mode_atoms     | all          |\n",
       "| mode_steps     | rmsd         |\n",
       "| atom_indices   | [ 4 14 18]   |\n",
       "| n_random_atoms | 0            |\n",
       "| step_size      | 0.3 nm       |"
      ],
      "text/plain": [
       "<IPython.core.display.Markdown object>"
      ]
     },
     "metadata": {},
     "output_type": "display_data"
    }
   ],
   "source": [
    "explorer.move.cartesian_shifts.show_parameters()"
   ]
  },
  {
   "cell_type": "code",
   "execution_count": 15,
   "metadata": {},
   "outputs": [],
   "source": [
    "explorer.set_coordinates(initial_positions)"
   ]
  },
  {
   "cell_type": "code",
   "execution_count": 16,
   "metadata": {},
   "outputs": [],
   "source": [
    "explorer.move.cartesian_shifts()"
   ]
  },
  {
   "cell_type": "code",
   "execution_count": 17,
   "metadata": {},
   "outputs": [
    {
     "data": {
      "text/plain": [
       "array([ 4, 14, 18])"
      ]
     },
     "execution_count": 17,
     "metadata": {},
     "output_type": "execute_result"
    }
   ],
   "source": [
    "explorer.move.cartesian_shifts.atoms_moved"
   ]
  },
  {
   "cell_type": "code",
   "execution_count": 18,
   "metadata": {},
   "outputs": [
    {
     "data": {
      "text/plain": [
       "Quantity(value=array([[-0.10605841,  0.15975047,  0.04597697],\n",
       "       [ 0.04032084,  0.19950945, -0.04032093],\n",
       "       [-0.00528239, -0.01891001, -0.0876154 ]]), unit=nanometer)"
      ]
     },
     "execution_count": 18,
     "metadata": {},
     "output_type": "execute_result"
    }
   ],
   "source": [
    "explorer.move.cartesian_shifts.shifts_moved"
   ]
  },
  {
   "cell_type": "code",
   "execution_count": 19,
   "metadata": {},
   "outputs": [
    {
     "data": {
      "application/vnd.jupyter.widget-view+json": {
       "model_id": "bee974a2026c4aa8ac1d1211014b4cfc",
       "version_major": 2,
       "version_minor": 0
      },
      "text/plain": [
       "NGLWidget()"
      ]
     },
     "metadata": {},
     "output_type": "display_data"
    }
   ],
   "source": [
    "msm.view([explorer_init, explorer])"
   ]
  },
  {
   "cell_type": "markdown",
   "metadata": {},
   "source": [
    "## Random shifts of dihedral angles"
   ]
  },
  {
   "cell_type": "code",
   "execution_count": 20,
   "metadata": {},
   "outputs": [],
   "source": [
    "explorer.set_coordinates(initial_positions)"
   ]
  },
  {
   "cell_type": "code",
   "execution_count": 21,
   "metadata": {},
   "outputs": [
    {
     "data": {
      "application/vnd.jupyter.widget-view+json": {
       "model_id": "0aac57118fa2477fbcc89c380ce287b8",
       "version_major": 2,
       "version_minor": 0
      },
      "text/plain": [
       "NGLWidget()"
      ]
     },
     "metadata": {},
     "output_type": "display_data"
    }
   ],
   "source": [
    "msm.view([explorer_init, explorer])"
   ]
  },
  {
   "cell_type": "code",
   "execution_count": 22,
   "metadata": {},
   "outputs": [
    {
     "data": {
      "text/plain": [
       "Quantity(value=array([[-179.99999499, -179.99999499]]), unit=degree)"
      ]
     },
     "execution_count": 22,
     "metadata": {},
     "output_type": "execute_result"
    }
   ],
   "source": [
    "msm.get_dihedral_angles(explorer, dihedral_angle='phi-psi')"
   ]
  },
  {
   "cell_type": "code",
   "execution_count": 23,
   "metadata": {},
   "outputs": [
    {
     "data": {
      "text/markdown": [
       "|                 | parameters      |\n",
       "|:----------------|:----------------|\n",
       "| mode_angles     | random          |\n",
       "| mode_steps      | random          |\n",
       "| quartets        | [[ 4  6  8 14]  |\n",
       "|                 |  [ 6  8 14 16]] |\n",
       "| n_random_angles | 1               |\n",
       "| step_size       | 180.0 deg       |"
      ],
      "text/plain": [
       "<IPython.core.display.Markdown object>"
      ]
     },
     "metadata": {},
     "output_type": "display_data"
    }
   ],
   "source": [
    "explorer.move.dihedral_shifts.show_parameters()"
   ]
  },
  {
   "cell_type": "code",
   "execution_count": 24,
   "metadata": {},
   "outputs": [],
   "source": [
    "explorer.move.dihedral_shifts()"
   ]
  },
  {
   "cell_type": "code",
   "execution_count": 25,
   "metadata": {},
   "outputs": [
    {
     "data": {
      "text/plain": [
       "array([1])"
      ]
     },
     "execution_count": 25,
     "metadata": {},
     "output_type": "execute_result"
    }
   ],
   "source": [
    "explorer.move.dihedral_shifts.quartets_moved"
   ]
  },
  {
   "cell_type": "code",
   "execution_count": 26,
   "metadata": {},
   "outputs": [
    {
     "data": {
      "text/plain": [
       "Quantity(value=array([-40.06364892]), unit=degree)"
      ]
     },
     "execution_count": 26,
     "metadata": {},
     "output_type": "execute_result"
    }
   ],
   "source": [
    "explorer.move.dihedral_shifts.shifts_moved"
   ]
  },
  {
   "cell_type": "code",
   "execution_count": 27,
   "metadata": {},
   "outputs": [
    {
     "data": {
      "text/plain": [
       "Quantity(value=array([[-179.99999499,  139.93634607]]), unit=degree)"
      ]
     },
     "execution_count": 27,
     "metadata": {},
     "output_type": "execute_result"
    }
   ],
   "source": [
    "msm.get_dihedral_angles(explorer, dihedral_angle='phi-psi')"
   ]
  },
  {
   "cell_type": "code",
   "execution_count": 28,
   "metadata": {},
   "outputs": [
    {
     "data": {
      "application/vnd.jupyter.widget-view+json": {
       "model_id": "89b39d7661584a219df00c996909bc0d",
       "version_major": 2,
       "version_minor": 0
      },
      "text/plain": [
       "NGLWidget()"
      ]
     },
     "metadata": {},
     "output_type": "display_data"
    }
   ],
   "source": [
    "msm.view([explorer_init, explorer])"
   ]
  },
  {
   "cell_type": "code",
   "execution_count": null,
   "metadata": {},
   "outputs": [],
   "source": []
  },
  {
   "cell_type": "code",
   "execution_count": null,
   "metadata": {},
   "outputs": [],
   "source": []
  }
 ],
 "metadata": {
  "kernelspec": {
   "display_name": "Python 3",
   "language": "python",
   "name": "python3"
  },
  "language_info": {
   "codemirror_mode": {
    "name": "ipython",
    "version": 3
   },
   "file_extension": ".py",
   "mimetype": "text/x-python",
   "name": "python",
   "nbconvert_exporter": "python",
   "pygments_lexer": "ipython3",
   "version": "3.7.8"
  }
 },
 "nbformat": 4,
 "nbformat_minor": 4
}
