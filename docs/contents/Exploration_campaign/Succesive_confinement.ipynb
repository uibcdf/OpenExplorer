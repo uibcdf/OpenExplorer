{
 "cells": [
  {
   "cell_type": "code",
   "execution_count": 1,
   "metadata": {},
   "outputs": [],
   "source": [
    "%load_ext autoreload\n",
    "%autoreload 2"
   ]
  },
  {
   "cell_type": "code",
   "execution_count": 2,
   "metadata": {},
   "outputs": [
    {
     "data": {
      "application/vnd.jupyter.widget-view+json": {
       "model_id": "68c8380dc21e49d9863503f8aa06dbe8",
       "version_major": 2,
       "version_minor": 0
      },
      "text/plain": []
     },
     "metadata": {},
     "output_type": "display_data"
    }
   ],
   "source": [
    "import molsysmt as msm\n",
    "import openexplorer as oe\n",
    "import numpy as np\n",
    "from simtk import unit\n",
    "from simtk.openmm import app"
   ]
  },
  {
   "cell_type": "markdown",
   "metadata": {},
   "source": [
    "# Successive confinement\n",
    "\n",
    "S. V. Krivov, S. F. Chekmarev and M. Karplus, Phys. Rev. Lett. 88, 3, 2002.\n"
   ]
  },
  {
   "cell_type": "code",
   "execution_count": 3,
   "metadata": {},
   "outputs": [],
   "source": [
    "modeller = msm.convert('alanine_tetrapeptide.pdb', to_form='openmm.Modeller')\n",
    "\n",
    "topology = modeller.topology\n",
    "positions = modeller.positions\n",
    "\n",
    "forcefield = app.ForceField('amber10.xml', 'amber10_obc.xml')\n",
    "system = forcefield.createSystem(topology, nonbondedMethod=app.NoCutoff, #constraints=app.HBonds,\n",
    "                                implicitSolvent=app.OBC2, soluteDielectric=1.0, solventDielectric=78.5)"
   ]
  },
  {
   "cell_type": "code",
   "execution_count": 4,
   "metadata": {},
   "outputs": [],
   "source": [
    "explorer = oe.Explorer(topology, system, platform='CUDA')\n",
    "explorer.set_coordinates(positions)"
   ]
  },
  {
   "cell_type": "code",
   "execution_count": 5,
   "metadata": {},
   "outputs": [],
   "source": [
    "exploration = oe.exploration_campaign.SuccessiveConfinement(explorer)"
   ]
  },
  {
   "cell_type": "code",
   "execution_count": 6,
   "metadata": {},
   "outputs": [
    {
     "name": "stderr",
     "output_type": "stream",
     "text": [
      "100%|██████████| 250/250 [00:59<00:00,  4.20it/s]\n"
     ]
    }
   ],
   "source": [
    "exploration.run(1, progress_bar=True)"
   ]
  },
  {
   "cell_type": "markdown",
   "metadata": {},
   "source": [
    "Podemos calcular la distancia entre configuraciones para hacer un mapa por proximidad: mds o red con threshold."
   ]
  },
  {
   "cell_type": "code",
   "execution_count": 17,
   "metadata": {},
   "outputs": [
    {
     "data": {
      "text/plain": [
       "{'weight': 1}"
      ]
     },
     "execution_count": 17,
     "metadata": {},
     "output_type": "execute_result"
    }
   ],
   "source": [
    "exploration.ktn.network.edges[0,5]"
   ]
  },
  {
   "cell_type": "code",
   "execution_count": 19,
   "metadata": {},
   "outputs": [
    {
     "data": {
      "text/plain": [
       "{0: [1,\n",
       "  1,\n",
       "  1,\n",
       "  2,\n",
       "  1,\n",
       "  1,\n",
       "  3,\n",
       "  4,\n",
       "  1,\n",
       "  1,\n",
       "  5,\n",
       "  6,\n",
       "  3,\n",
       "  3,\n",
       "  3,\n",
       "  7,\n",
       "  8,\n",
       "  3,\n",
       "  9,\n",
       "  10,\n",
       "  11,\n",
       "  3,\n",
       "  9,\n",
       "  9,\n",
       "  12,\n",
       "  9,\n",
       "  1,\n",
       "  11,\n",
       "  3,\n",
       "  3,\n",
       "  3,\n",
       "  13,\n",
       "  6,\n",
       "  9,\n",
       "  14,\n",
       "  15,\n",
       "  13,\n",
       "  3,\n",
       "  16,\n",
       "  3,\n",
       "  17,\n",
       "  1,\n",
       "  9,\n",
       "  1,\n",
       "  9,\n",
       "  3,\n",
       "  9,\n",
       "  18,\n",
       "  3,\n",
       "  9,\n",
       "  3,\n",
       "  3,\n",
       "  19,\n",
       "  3,\n",
       "  20,\n",
       "  9,\n",
       "  11,\n",
       "  3,\n",
       "  3,\n",
       "  21,\n",
       "  3,\n",
       "  3,\n",
       "  3,\n",
       "  9,\n",
       "  3,\n",
       "  19,\n",
       "  22,\n",
       "  23,\n",
       "  9,\n",
       "  3,\n",
       "  3,\n",
       "  24,\n",
       "  9,\n",
       "  3,\n",
       "  9,\n",
       "  3,\n",
       "  11,\n",
       "  11,\n",
       "  9,\n",
       "  22,\n",
       "  3,\n",
       "  3,\n",
       "  25,\n",
       "  9,\n",
       "  22,\n",
       "  3,\n",
       "  9,\n",
       "  3,\n",
       "  9,\n",
       "  17,\n",
       "  9,\n",
       "  26,\n",
       "  27,\n",
       "  3,\n",
       "  3,\n",
       "  9,\n",
       "  28,\n",
       "  3,\n",
       "  29,\n",
       "  30,\n",
       "  3,\n",
       "  9,\n",
       "  29,\n",
       "  3,\n",
       "  7,\n",
       "  9,\n",
       "  17,\n",
       "  9,\n",
       "  3,\n",
       "  31,\n",
       "  9,\n",
       "  26,\n",
       "  9,\n",
       "  19,\n",
       "  3,\n",
       "  9,\n",
       "  9,\n",
       "  3,\n",
       "  29,\n",
       "  9,\n",
       "  3,\n",
       "  3,\n",
       "  31,\n",
       "  9,\n",
       "  32,\n",
       "  3,\n",
       "  14,\n",
       "  3,\n",
       "  3,\n",
       "  9,\n",
       "  3,\n",
       "  3,\n",
       "  9,\n",
       "  3,\n",
       "  3,\n",
       "  29,\n",
       "  29,\n",
       "  9,\n",
       "  29,\n",
       "  9,\n",
       "  3,\n",
       "  3,\n",
       "  33,\n",
       "  3,\n",
       "  11,\n",
       "  27,\n",
       "  2,\n",
       "  3,\n",
       "  9,\n",
       "  33,\n",
       "  9,\n",
       "  3,\n",
       "  9,\n",
       "  34,\n",
       "  35,\n",
       "  3,\n",
       "  9,\n",
       "  6,\n",
       "  3,\n",
       "  36,\n",
       "  13,\n",
       "  37,\n",
       "  3,\n",
       "  9,\n",
       "  3,\n",
       "  3,\n",
       "  3,\n",
       "  38,\n",
       "  9,\n",
       "  3,\n",
       "  3,\n",
       "  9,\n",
       "  39,\n",
       "  26,\n",
       "  9,\n",
       "  3,\n",
       "  13,\n",
       "  40,\n",
       "  3,\n",
       "  9,\n",
       "  9,\n",
       "  9,\n",
       "  3,\n",
       "  1,\n",
       "  3,\n",
       "  9,\n",
       "  11,\n",
       "  3,\n",
       "  9,\n",
       "  3,\n",
       "  41,\n",
       "  42,\n",
       "  3,\n",
       "  28,\n",
       "  9,\n",
       "  43,\n",
       "  3,\n",
       "  3,\n",
       "  3,\n",
       "  3,\n",
       "  3,\n",
       "  3,\n",
       "  3,\n",
       "  9,\n",
       "  3,\n",
       "  3,\n",
       "  29,\n",
       "  3,\n",
       "  3,\n",
       "  29,\n",
       "  44,\n",
       "  45,\n",
       "  3,\n",
       "  3,\n",
       "  3,\n",
       "  9,\n",
       "  3,\n",
       "  3,\n",
       "  9,\n",
       "  9,\n",
       "  3,\n",
       "  46,\n",
       "  28,\n",
       "  0,\n",
       "  3,\n",
       "  29,\n",
       "  47,\n",
       "  9,\n",
       "  29,\n",
       "  9,\n",
       "  29,\n",
       "  3,\n",
       "  3,\n",
       "  9,\n",
       "  3,\n",
       "  9,\n",
       "  3,\n",
       "  9,\n",
       "  19,\n",
       "  3,\n",
       "  3,\n",
       "  9,\n",
       "  48,\n",
       "  11,\n",
       "  9,\n",
       "  9,\n",
       "  9,\n",
       "  3,\n",
       "  3,\n",
       "  3,\n",
       "  3]}"
      ]
     },
     "execution_count": 19,
     "metadata": {},
     "output_type": "execute_result"
    }
   ],
   "source": [
    "exploration.trajectory_inherent_structures"
   ]
  },
  {
   "cell_type": "code",
   "execution_count": null,
   "metadata": {},
   "outputs": [],
   "source": []
  }
 ],
 "metadata": {
  "kernelspec": {
   "display_name": "Python 3",
   "language": "python",
   "name": "python3"
  },
  "language_info": {
   "codemirror_mode": {
    "name": "ipython",
    "version": 3
   },
   "file_extension": ".py",
   "mimetype": "text/x-python",
   "name": "python",
   "nbconvert_exporter": "python",
   "pygments_lexer": "ipython3",
   "version": "3.7.8"
  }
 },
 "nbformat": 4,
 "nbformat_minor": 4
}
