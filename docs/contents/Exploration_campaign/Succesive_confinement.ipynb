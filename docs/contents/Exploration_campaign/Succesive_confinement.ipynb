{
 "cells": [
  {
   "cell_type": "code",
   "execution_count": 1,
   "metadata": {},
   "outputs": [],
   "source": [
    "%load_ext autoreload\n",
    "%autoreload 2"
   ]
  },
  {
   "cell_type": "code",
   "execution_count": 2,
   "metadata": {},
   "outputs": [
    {
     "data": {
      "application/vnd.jupyter.widget-view+json": {
       "model_id": "175ca28f22564b56915d541884cbd6c4",
       "version_major": 2,
       "version_minor": 0
      },
      "text/plain": []
     },
     "metadata": {},
     "output_type": "display_data"
    }
   ],
   "source": [
    "import molsysmt as msm\n",
    "import openexplorer as oe\n",
    "import numpy as np\n",
    "from simtk import unit\n",
    "from simtk.openmm import app"
   ]
  },
  {
   "cell_type": "code",
   "execution_count": 3,
   "metadata": {},
   "outputs": [],
   "source": [
    "modeller = msm.convert('alanine_dipeptide.pdb', to_form='openmm.Modeller')\n",
    "\n",
    "topology = modeller.topology\n",
    "positions = modeller.positions\n",
    "\n",
    "forcefield = app.ForceField('amber10.xml', 'amber10_obc.xml')\n",
    "system = forcefield.createSystem(topology, constraints=app.HBonds, nonbondedMethod=app.NoCutoff)"
   ]
  },
  {
   "cell_type": "code",
   "execution_count": 4,
   "metadata": {},
   "outputs": [],
   "source": [
    "explorer = oe.Explorer(topology, system, platform='CUDA')"
   ]
  },
  {
   "cell_type": "code",
   "execution_count": 5,
   "metadata": {},
   "outputs": [],
   "source": [
    "explorer.set_coordinates(positions)"
   ]
  },
  {
   "cell_type": "code",
   "execution_count": 6,
   "metadata": {},
   "outputs": [],
   "source": [
    "temperature = 1000.0*unit.kelvin\n",
    "timestep = 2.0*unit.femtoseconds\n",
    "collision_rate = 1.0/unit.picoseconds\n",
    "explorer.md.langevin.set_parameters(temperature=temperature, timestep=timestep,\n",
    "                                    collision_rate=collision_rate)\n",
    "\n",
    "time_langevin_total = 10*unit.nanosecond\n",
    "time_langevin_cicle = 10.0*unit.picoseconds\n",
    "steps_langevin_cicle = int(time_langevin_cicle / explorer.md.langevin._timestep)\n",
    "n_cicles = int(time_langevin_total/time_langevin_cicle)\n",
    "\n",
    "minima = []\n",
    "\n",
    "coordinates = explorer.get_coordinates()\n",
    "explorer.quench.l_bfgs()\n",
    "minima.append(explorer.get_coordinates())\n",
    "\n",
    "explorer.set_coordinates(coordinates)\n",
    "explorer.set_velocities_to_temperature(temperature)\n",
    "\n",
    "threshold = 0.25*unit.angstroms\n",
    "\n",
    "for cicle_index in range(n_cicles):\n",
    "    \n",
    "    explorer.md.langevin(steps_langevin_cicle)\n",
    "    coordinates = explorer.get_coordinates()\n",
    "    velocities = explorer.get_velocities()\n",
    "    explorer.quench.l_bfgs()\n",
    "    new_minimum=True\n",
    "    for minimum in reversed(minima):\n",
    "        distance = explorer.distance.least_rmsd(minimum)\n",
    "        if distance<=threshold:\n",
    "            new_minimum=False\n",
    "            break\n",
    "    if new_minimum:\n",
    "        minima.append(explorer.get_coordinates())\n",
    "    explorer.set_coordinates(coordinates)\n",
    "    explorer.set_velocities(velocities)\n",
    "    "
   ]
  },
  {
   "cell_type": "code",
   "execution_count": 7,
   "metadata": {},
   "outputs": [
    {
     "data": {
      "text/plain": [
       "3"
      ]
     },
     "execution_count": 7,
     "metadata": {},
     "output_type": "execute_result"
    }
   ],
   "source": [
    "len(minima)"
   ]
  },
  {
   "cell_type": "markdown",
   "metadata": {},
   "source": [
    "Podemos calcular la distancia entre configuraciones para hacer un mapa por proximidad: mds o red con threshold."
   ]
  },
  {
   "cell_type": "code",
   "execution_count": null,
   "metadata": {},
   "outputs": [],
   "source": []
  }
 ],
 "metadata": {
  "kernelspec": {
   "display_name": "Python 3",
   "language": "python",
   "name": "python3"
  },
  "language_info": {
   "codemirror_mode": {
    "name": "ipython",
    "version": 3
   },
   "file_extension": ".py",
   "mimetype": "text/x-python",
   "name": "python",
   "nbconvert_exporter": "python",
   "pygments_lexer": "ipython3",
   "version": "3.7.7"
  }
 },
 "nbformat": 4,
 "nbformat_minor": 4
}
