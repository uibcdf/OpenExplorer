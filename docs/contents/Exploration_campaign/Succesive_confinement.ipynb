{
 "cells": [
  {
   "cell_type": "code",
   "execution_count": null,
   "metadata": {},
   "outputs": [],
   "source": [
    "%load_ext autoreload\n",
    "%autoreload 2"
   ]
  },
  {
   "cell_type": "code",
   "execution_count": null,
   "metadata": {},
   "outputs": [],
   "source": [
    "import molsysmt as msm\n",
    "import openexplorer as oe\n",
    "import numpy as np\n",
    "from simtk import unit\n",
    "from simtk.openmm import app"
   ]
  },
  {
   "cell_type": "code",
   "execution_count": null,
   "metadata": {},
   "outputs": [],
   "source": [
    "modeller = msm.convert('alanine_tetrapeptide.pdb', to_form='openmm.Modeller')\n",
    "\n",
    "topology = modeller.topology\n",
    "positions = modeller.positions\n",
    "\n",
    "forcefield = app.ForceField('amber10.xml', 'amber10_obc.xml')\n",
    "system = forcefield.createSystem(topology, nonbondedMethod=app.NoCutoff, #constraints=app.HBonds,\n",
    "                                implicitSolvent=app.OBC2, soluteDielectric=1.0, solventDielectric=78.5)"
   ]
  },
  {
   "cell_type": "code",
   "execution_count": null,
   "metadata": {},
   "outputs": [],
   "source": [
    "explorer = oe.Explorer(topology, system, platform='CUDA')\n",
    "explorer.set_coordinates(positions)\n",
    "explorer.md.langevin(1000)\n",
    "explorer.quench.l_bfgs()"
   ]
  },
  {
   "cell_type": "code",
   "execution_count": null,
   "metadata": {},
   "outputs": [],
   "source": [
    "temperature = 500.0*unit.kelvin\n",
    "timestep = 2.0*unit.femtoseconds\n",
    "collision_rate = 1.0/unit.picoseconds # Openmm suggests 1 ps-1 but will it be the same for implicit solvent? 64?\n",
    "explorer.md.langevin.set_parameters(temperature=temperature, timestep=timestep,\n",
    "                                    collision_rate=collision_rate)\n",
    "\n",
    "threshold = 0.01*unit.angstroms\n",
    "\n",
    "time_langevin_cicle = 1.0*unit.picoseconds\n",
    "steps_langevin_cicle = int(time_langevin_cicle/timestep)\n",
    "n_attempts_per_minimum = 150\n",
    "\n",
    "minima_coordinates = []\n",
    "minima_potential_energy = []\n",
    "n_minima = 0\n",
    "\n",
    "explorer.quench.l_bfgs()\n",
    "minima_coordinates.append(explorer.get_coordinates())\n",
    "minima_potential_energy.append(explorer.get_potential_energy())\n",
    "n_minima += 1\n",
    "\n",
    "\n",
    "current_minimum_index = 0\n",
    "\n",
    "while current_minimum_index < n_minima:\n",
    "    \n",
    "    \n",
    "    current_minimum_coordinates = minima_coordinates[current_minimum_index]\n",
    "    n_attempts = 0\n",
    "    n_cicles = 0\n",
    "    \n",
    "    coordinates = current_minimum_coordinates\n",
    "    explorer.set_coordinates(coordinates)\n",
    "    explorer.set_velocities_to_temperature(temperature)\n",
    "    \n",
    "    while n_attempts<n_attempts_per_minimum:\n",
    "    \n",
    "        pre_coordinates=explorer.get_coordinates()\n",
    "        \n",
    "        explorer.md.langevin(steps_langevin_cicle)\n",
    "        coordinates = explorer.get_coordinates()\n",
    "        velocities = explorer.get_velocities()\n",
    "        \n",
    "        explorer.quench.l_bfgs()\n",
    "    \n",
    "        if explorer.distance.least_rmsd(current_minimum_coordinates) <= threshold:\n",
    "            explorer.set_coordinates(coordinates)\n",
    "            explorer.set_velocities(velocities)\n",
    "\n",
    "        else:\n",
    "        \n",
    "            n_attempts+=1\n",
    "        \n",
    "            new_minimum=True\n",
    "            for minimum_index in range(n_minima):\n",
    "                if minimum_index!=current_minimum_index:\n",
    "                    if explorer.distance.least_rmsd(minima_coordinates[minimum_index]) <= threshold:\n",
    "                        new_minimum = False\n",
    "                        break\n",
    "            if new_minimum:\n",
    "                minima_coordinates.append(explorer.get_coordinates())\n",
    "                minima_potential_energy.append(explorer.get_potential_energy())\n",
    "                n_minima+=1\n",
    "        \n",
    "            explorer.set_coordinates(pre_coordinates)\n",
    "            explorer.set_velocities_to_temperature(temperature)\n",
    "\n",
    "            print(current_minimum_index, n_attempts, n_cicles, n_minima)\n",
    "        \n",
    "        n_cicles+=1\n",
    "    \n",
    "    current_minimum_index+=1"
   ]
  },
  {
   "cell_type": "markdown",
   "metadata": {},
   "source": [
    "Podemos calcular la distancia entre configuraciones para hacer un mapa por proximidad: mds o red con threshold."
   ]
  },
  {
   "cell_type": "code",
   "execution_count": null,
   "metadata": {},
   "outputs": [],
   "source": []
  }
 ],
 "metadata": {
  "kernelspec": {
   "display_name": "Python 3",
   "language": "python",
   "name": "python3"
  },
  "language_info": {
   "codemirror_mode": {
    "name": "ipython",
    "version": 3
   },
   "file_extension": ".py",
   "mimetype": "text/x-python",
   "name": "python",
   "nbconvert_exporter": "python",
   "pygments_lexer": "ipython3",
   "version": "3.7.7"
  }
 },
 "nbformat": 4,
 "nbformat_minor": 4
}
