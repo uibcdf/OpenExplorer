{
 "cells": [
  {
   "cell_type": "code",
   "execution_count": 1,
   "metadata": {},
   "outputs": [],
   "source": [
    "%load_ext autoreload\n",
    "%autoreload 2"
   ]
  },
  {
   "cell_type": "code",
   "execution_count": 2,
   "metadata": {},
   "outputs": [
    {
     "data": {
      "application/vnd.jupyter.widget-view+json": {
       "model_id": "a2ed5b24711d425fa49aae6d2a0a4f01",
       "version_major": 2,
       "version_minor": 0
      },
      "text/plain": []
     },
     "metadata": {},
     "output_type": "display_data"
    }
   ],
   "source": [
    "import molsysmt as msm\n",
    "import openexplorer as oe\n",
    "import numpy as np\n",
    "from simtk import unit\n",
    "from simtk.openmm import app"
   ]
  },
  {
   "cell_type": "code",
   "execution_count": 3,
   "metadata": {},
   "outputs": [],
   "source": [
    "modeller = msm.convert('alanine_dipeptide.pdb', to_form='openmm.Modeller')\n",
    "\n",
    "topology = modeller.topology\n",
    "positions = modeller.positions\n",
    "\n",
    "forcefield = app.ForceField('amber10.xml', 'amber10_obc.xml')\n",
    "system = forcefield.createSystem(topology, constraints=app.HBonds, nonbondedMethod=app.NoCutoff)"
   ]
  },
  {
   "cell_type": "code",
   "execution_count": 10,
   "metadata": {},
   "outputs": [],
   "source": [
    "explorer = oe.Explorer(topology, system, platform='CUDA')\n",
    "explorer.set_coordinates(positions)"
   ]
  },
  {
   "cell_type": "code",
   "execution_count": 11,
   "metadata": {},
   "outputs": [],
   "source": [
    "velocities = explorer.get_velocities()"
   ]
  },
  {
   "cell_type": "code",
   "execution_count": 12,
   "metadata": {},
   "outputs": [
    {
     "data": {
      "text/plain": [
       "Quantity(value=0.0, unit=nanometer**2/(picosecond**2))"
      ]
     },
     "execution_count": 12,
     "metadata": {},
     "output_type": "execute_result"
    }
   ],
   "source": [
    "(velocities**2).sum()"
   ]
  },
  {
   "cell_type": "code",
   "execution_count": 13,
   "metadata": {},
   "outputs": [
    {
     "data": {
      "text/plain": [
       "Quantity(value=0.4280270110647903, unit=kilojoule/mole)"
      ]
     },
     "execution_count": 13,
     "metadata": {},
     "output_type": "execute_result"
    }
   ],
   "source": [
    "explorer.context.getState(getEnergy=True).getKineticEnergy()"
   ]
  },
  {
   "cell_type": "code",
   "execution_count": 8,
   "metadata": {},
   "outputs": [
    {
     "data": {
      "text/plain": [
       "Quantity(value=2.018811817084811, unit=kelvin)"
      ]
     },
     "execution_count": 8,
     "metadata": {},
     "output_type": "execute_result"
    }
   ],
   "source": [
    "explorer.get_temperature()"
   ]
  },
  {
   "cell_type": "code",
   "execution_count": null,
   "metadata": {},
   "outputs": [],
   "source": [
    "explorer.context.getState(getVelocities=True, getEnergy=True).getKineticEnergy()"
   ]
  },
  {
   "cell_type": "code",
   "execution_count": null,
   "metadata": {},
   "outputs": [],
   "source": [
    "aa= explorer.get_velocities()"
   ]
  },
  {
   "cell_type": "code",
   "execution_count": null,
   "metadata": {},
   "outputs": [],
   "source": [
    "for ii in range(22):\n",
    "    print(aa[ii,:])"
   ]
  },
  {
   "cell_type": "code",
   "execution_count": null,
   "metadata": {},
   "outputs": [],
   "source": [
    "explorer.n_dof/3"
   ]
  },
  {
   "cell_type": "code",
   "execution_count": null,
   "metadata": {},
   "outputs": [],
   "source": [
    "explorer.n_atoms"
   ]
  },
  {
   "cell_type": "code",
   "execution_count": null,
   "metadata": {},
   "outputs": [],
   "source": [
    "explorer.md.langevin(10000)"
   ]
  },
  {
   "cell_type": "code",
   "execution_count": null,
   "metadata": {},
   "outputs": [],
   "source": [
    "temperature = 500.0*unit.kelvin\n",
    "timestep = 2.0*unit.femtoseconds\n",
    "collision_rate = 64.0/unit.picoseconds # 64 Openmm sugests 1 ps-1 but will it be the same for implicit solvent?\n",
    "explorer.md.langevin.set_parameters(temperature=temperature, timestep=timestep,\n",
    "                                    collision_rate=collision_rate)\n",
    "\n",
    "threshold = 0.1*unit.angstroms\n",
    "\n",
    "time_langevin_cicle = 1.0*unit.picoseconds\n",
    "steps_langevin_cicle = int(time_langevin_cicle/timestep)\n",
    "n_attempts_per_minimum = 250\n",
    "\n",
    "minima_coordinates = []\n",
    "minima_potential_energy = []\n",
    "n_minima = 0\n",
    "\n",
    "explorer.set_velocities_to_temperature(temperature)\n",
    "\n",
    "coordinates = explorer.get_coordinates()\n",
    "velocities = explorer.get_velocities()\n",
    "explorer.quench.l_bfgs()\n",
    "\n",
    "current_minimum_index = 0\n",
    "current_minimum_coordinates = explorer.get_coordinates()\n",
    "minima_coordinates.append(current_minimum_coordinates)\n",
    "minima_potential_energy.append(explorer.get_potential_energy())\n",
    "n_minima += 1\n",
    "\n",
    "explorer.set_coordinates(coordinates)\n",
    "explorer.set_velocities(velocities)\n",
    "\n",
    "n_attempts = 0\n",
    "n_cicles = 0\n",
    "\n",
    "while n_attempts<n_attempts_per_minimum:\n",
    "    \n",
    "    pre_coordinates=coordinates\n",
    "    explorer.md.langevin(steps_langevin_cicle)\n",
    "    coordinates = explorer.get_coordinates()\n",
    "    velocities = explorer.get_velocities()\n",
    "    explorer.quench.l_bfgs()\n",
    "    \n",
    "    \n",
    "    if explorer.distance.least_rmsd(current_minimum_coordinates) <= threshold:\n",
    "        \n",
    "        explorer.set_coordinates(coordinates)\n",
    "        explorer.set_velocities(velocities)\n",
    "        \n",
    "    else:\n",
    "        \n",
    "        n_attempts+=1\n",
    "        \n",
    "        new_minimum=True\n",
    "        for minimum_index in range(n_minima):\n",
    "            if minimum_index!=current_minimum_index:\n",
    "                if explorer.distance.least_rmsd(minima_coordinates[minimum_index]) <= threshold:\n",
    "                    new_minimum = False\n",
    "                    break\n",
    "        if new_minimum:\n",
    "            minima_coordinates.append(explorer.get_coordinates())\n",
    "            minima_potential_energy.append(explorer.get_potential_energy())\n",
    "            n_minima+=1\n",
    "        \n",
    "        coordinates=pre_coordinates\n",
    "        explorer.set_coordinates(coordinates)\n",
    "        explorer.set_velocities_to_temperature(temperature)\n",
    "\n",
    "        print(n_attempts, n_cicles, n_minima)\n",
    "        \n",
    "    n_cicles+=1\n",
    "        "
   ]
  },
  {
   "cell_type": "code",
   "execution_count": null,
   "metadata": {},
   "outputs": [],
   "source": [
    "explorer.md.langevin.get_time()"
   ]
  },
  {
   "cell_type": "code",
   "execution_count": null,
   "metadata": {},
   "outputs": [],
   "source": [
    "minima_potential_energy"
   ]
  },
  {
   "cell_type": "markdown",
   "metadata": {},
   "source": [
    "Podemos calcular la distancia entre configuraciones para hacer un mapa por proximidad: mds o red con threshold."
   ]
  },
  {
   "cell_type": "code",
   "execution_count": null,
   "metadata": {},
   "outputs": [],
   "source": [
    "explorer.get_velocities()"
   ]
  },
  {
   "cell_type": "code",
   "execution_count": null,
   "metadata": {},
   "outputs": [],
   "source": []
  }
 ],
 "metadata": {
  "kernelspec": {
   "display_name": "Python 3",
   "language": "python",
   "name": "python3"
  },
  "language_info": {
   "codemirror_mode": {
    "name": "ipython",
    "version": 3
   },
   "file_extension": ".py",
   "mimetype": "text/x-python",
   "name": "python",
   "nbconvert_exporter": "python",
   "pygments_lexer": "ipython3",
   "version": "3.7.7"
  }
 },
 "nbformat": 4,
 "nbformat_minor": 4
}
