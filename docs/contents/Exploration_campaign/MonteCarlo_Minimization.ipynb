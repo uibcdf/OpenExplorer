{
 "cells": [
  {
   "cell_type": "code",
   "execution_count": 1,
   "metadata": {},
   "outputs": [],
   "source": [
    "%load_ext autoreload\n",
    "%autoreload 2"
   ]
  },
  {
   "cell_type": "code",
   "execution_count": 2,
   "metadata": {},
   "outputs": [
    {
     "data": {
      "application/vnd.jupyter.widget-view+json": {
       "model_id": "6784f43a40c84a1ebc51828ae3c657e1",
       "version_major": 2,
       "version_minor": 0
      },
      "text/plain": []
     },
     "metadata": {},
     "output_type": "display_data"
    }
   ],
   "source": [
    "import molsysmt as msm\n",
    "import openexplorer as oe\n",
    "import numpy as np\n",
    "from simtk import unit\n",
    "from simtk.openmm import app"
   ]
  },
  {
   "cell_type": "markdown",
   "metadata": {},
   "source": [
    "# Monte Carlo-minimization\n",
    "\n",
    "Li, Zhenqin, and Harold A. Scheraga. \"Monte Carlo-minimization approach to the multiple-minima problem in protein folding.\" Proceedings of the National Academy of Sciences 84, no. 19 (1987): 6611-6615."
   ]
  },
  {
   "cell_type": "code",
   "execution_count": 3,
   "metadata": {},
   "outputs": [],
   "source": [
    "modeller = msm.convert('metenkephalin.pdb', to_form='openmm.Modeller')\n",
    "\n",
    "topology = modeller.topology\n",
    "positions = modeller.positions\n",
    "\n",
    "forcefield = app.ForceField('amber10.xml')\n",
    "system = forcefield.createSystem(topology, nonbondedMethod=app.NoCutoff)\n",
    "\n",
    "#forcefield = app.ForceField('amber10.xml', 'amber10_obc.xml')\n",
    "#system = forcefield.createSystem(topology, nonbondedMethod=app.NoCutoff, #constraints=app.HBonds,\n",
    "#                                 implicitSolvent=app.OBC2, soluteDielectric=1.0, solventDielectric=78.5)"
   ]
  },
  {
   "cell_type": "code",
   "execution_count": 4,
   "metadata": {},
   "outputs": [],
   "source": [
    "explorer = oe.Explorer(topology, system, platform='CUDA')"
   ]
  },
  {
   "cell_type": "code",
   "execution_count": null,
   "metadata": {},
   "outputs": [],
   "source": []
  }
 ],
 "metadata": {
  "kernelspec": {
   "display_name": "Python 3",
   "language": "python",
   "name": "python3"
  },
  "language_info": {
   "codemirror_mode": {
    "name": "ipython",
    "version": 3
   },
   "file_extension": ".py",
   "mimetype": "text/x-python",
   "name": "python",
   "nbconvert_exporter": "python",
   "pygments_lexer": "ipython3",
   "version": "3.7.8"
  }
 },
 "nbformat": 4,
 "nbformat_minor": 4
}
