{
 "cells": [
  {
   "cell_type": "code",
   "execution_count": 1,
   "metadata": {},
   "outputs": [],
   "source": [
    "%load_ext autoreload\n",
    "%autoreload 2"
   ]
  },
  {
   "cell_type": "code",
   "execution_count": 2,
   "metadata": {},
   "outputs": [
    {
     "data": {
      "application/vnd.jupyter.widget-view+json": {
       "model_id": "8b7bd051e5c847b6b07e56be810ef431",
       "version_major": 2,
       "version_minor": 0
      },
      "text/plain": []
     },
     "metadata": {},
     "output_type": "display_data"
    }
   ],
   "source": [
    "import molsysmt as msm\n",
    "import openexplorer as oe\n",
    "import numpy as np\n",
    "from simtk import unit\n",
    "from simtk.openmm import app\n",
    "from tqdm import tqdm\n",
    "import matplotlib.pyplot as plt"
   ]
  },
  {
   "cell_type": "markdown",
   "metadata": {},
   "source": [
    "# Quench and restore\n",
    "\n",
    "MD at high temperature with quenching every short periods of time: getting the \"hidden\" or \"inherent structures\".\n",
    "\n",
    "F. H. Stillinger and T. A. Weber, Phys. Rev. A 25, 978, 1982.    \n",
    "F. H. Stillinger and T. A. Weber, J. Phys. Chem. 87, 2833, 1983.    \n",
    "F. H. Stillinger and T. A. Weber, Science 225, 983, 1984.    "
   ]
  },
  {
   "cell_type": "code",
   "execution_count": 4,
   "metadata": {},
   "outputs": [],
   "source": [
    "## Test system\n",
    "\n",
    "modeller = msm.convert('alanine_tetrapeptide.pdb', to_form='openmm.Modeller')\n",
    "\n",
    "topology = modeller.topology\n",
    "positions = modeller.positions\n",
    "\n",
    "forcefield = app.ForceField('amber10.xml', 'amber10_obc.xml')\n",
    "system = forcefield.createSystem(topology, constraints=app.HBonds, nonbondedMethod=app.NoCutoff)\n",
    "\n",
    "explorer = oe.Explorer(topology, system, platform='CUDA')\n",
    "explorer.set_coordinates(positions)"
   ]
  },
  {
   "cell_type": "code",
   "execution_count": 5,
   "metadata": {},
   "outputs": [
    {
     "name": "stderr",
     "output_type": "stream",
     "text": [
      "100%|██████████| 200/200 [07:05<00:00,  2.13s/it]\n"
     ]
    }
   ],
   "source": [
    "## Illustrative procedure\n",
    "\n",
    "temperature = 500.0*unit.kelvin\n",
    "timestep = 2.0*unit.femtoseconds\n",
    "collision_rate = 1.0/unit.picoseconds\n",
    "explorer.md.langevin.set_parameters(temperature=temperature, timestep=timestep,\n",
    "                                    collision_rate=collision_rate)\n",
    "\n",
    "time_langevin_total = 10*unit.nanosecond\n",
    "time_langevin_cicle = 50.0*unit.picoseconds\n",
    "steps_langevin_cicle = int(time_langevin_cicle / explorer.md.langevin._timestep)\n",
    "n_cicles = int(time_langevin_total/time_langevin_cicle)\n",
    "\n",
    "minima_coordinates = []\n",
    "minima_potential_energy = []\n",
    "traj_inherent_structures = []\n",
    "time = []*unit.picoseconds\n",
    "n_minima = 0\n",
    "\n",
    "explorer.set_coordinates(positions)\n",
    "explorer.set_velocities_to_temperature(temperature)\n",
    "\n",
    "coordinates = explorer.get_coordinates()\n",
    "velocities = explorer.get_velocities()\n",
    "explorer.quench.l_bfgs()\n",
    "minima_coordinates.append(explorer.get_coordinates())\n",
    "minima_potential_energy.append(explorer.get_potential_energy())\n",
    "traj_inherent_structures.append(0)\n",
    "time.append(explorer.md.langevin.get_time())\n",
    "n_minima+=1\n",
    "explorer.set_coordinates(coordinates)\n",
    "explorer.set_velocities_to_temperature(temperature)\n",
    "\n",
    "threshold = 0.25*unit.angstroms\n",
    "\n",
    "for cicle_index in tqdm(range(n_cicles)):\n",
    "    \n",
    "    explorer.md.langevin(steps_langevin_cicle)\n",
    "    coordinates = explorer.get_coordinates()\n",
    "    velocities = explorer.get_velocities()\n",
    "    explorer.quench.l_bfgs()\n",
    "    new_minimum=True\n",
    "    for minimum_index in reversed(range(n_minima)):\n",
    "        distance = explorer.distance.least_rmsd(minima_coordinates[minimum_index])\n",
    "        if distance<=threshold:\n",
    "            new_minimum=False\n",
    "            inherent_structure_index=minimum_index\n",
    "            break\n",
    "    if new_minimum:\n",
    "        minima_coordinates.append(explorer.get_coordinates())\n",
    "        minima_potential_energy.append(explorer.get_potential_energy())\n",
    "        inherent_structure_index=n_minima\n",
    "        n_minima+=1\n",
    "    traj_inherent_structures.append(inherent_structure_index)\n",
    "    time.append(explorer.md.langevin.get_time())\n",
    "    explorer.set_coordinates(coordinates)\n",
    "    explorer.set_velocities(velocities)"
   ]
  },
  {
   "cell_type": "code",
   "execution_count": 6,
   "metadata": {},
   "outputs": [
    {
     "name": "stdout",
     "output_type": "stream",
     "text": [
      "Number of inherent structures visited along the exploration: 4\n"
     ]
    }
   ],
   "source": [
    "print('Number of inherent structures visited along the exploration:', n_minima)"
   ]
  },
  {
   "cell_type": "code",
   "execution_count": 7,
   "metadata": {},
   "outputs": [
    {
     "data": {
      "image/png": "[encoded data removed]",
      "text/plain": [
       "<Figure size 432x288 with 1 Axes>"
      ]
     },
     "metadata": {
      "needs_background": "light"
     },
     "output_type": "display_data"
    }
   ],
   "source": [
    "plt.plot(np.array(time._value)*time.unit, traj_inherent_structures)\n",
    "plt.show()"
   ]
  },
  {
   "cell_type": "markdown",
   "metadata": {},
   "source": [
    "Podemos calcular la distancia entre configuraciones para hacer un mapa por proximidad: mds o red con threshold."
   ]
  },
  {
   "cell_type": "code",
   "execution_count": 8,
   "metadata": {},
   "outputs": [],
   "source": [
    "exploration = oe.exploration_campaign.QuenchAndRestore(explorer)"
   ]
  },
  {
   "cell_type": "code",
   "execution_count": 9,
   "metadata": {},
   "outputs": [
    {
     "name": "stderr",
     "output_type": "stream",
     "text": [
      "100%|██████████| 100/100 [03:37<00:00,  2.17s/it]\n"
     ]
    }
   ],
   "source": [
    "exploration.run(100, verbose=True)"
   ]
  },
  {
   "cell_type": "code",
   "execution_count": 11,
   "metadata": {},
   "outputs": [
    {
     "data": {
      "text/plain": [
       "2"
      ]
     },
     "execution_count": 11,
     "metadata": {},
     "output_type": "execute_result"
    }
   ],
   "source": [
    "exploration.pes.n_minima"
   ]
  },
  {
   "cell_type": "code",
   "execution_count": 10,
   "metadata": {},
   "outputs": [
    {
     "data": {
      "text/plain": [
       "Quantity(value=[-1245.3386739767693, -1228.710608667818], unit=kilojoule/mole)"
      ]
     },
     "execution_count": 10,
     "metadata": {},
     "output_type": "execute_result"
    }
   ],
   "source": [
    "exploration.pes.potential_energy_minima"
   ]
  },
  {
   "cell_type": "code",
   "execution_count": 13,
   "metadata": {},
   "outputs": [
    {
     "data": {
      "image/png": "[encoded data removed]",
      "text/plain": [
       "<Figure size 432x288 with 1 Axes>"
      ]
     },
     "metadata": {
      "needs_background": "light"
     },
     "output_type": "display_data"
    }
   ],
   "source": [
    "plt.plot(np.array(exploration.time._value)*exploration.time.unit, exploration.trajectory_inherent_structures)\n",
    "plt.show()"
   ]
  },
  {
   "cell_type": "code",
   "execution_count": null,
   "metadata": {},
   "outputs": [],
   "source": []
  }
 ],
 "metadata": {
  "kernelspec": {
   "display_name": "Python 3",
   "language": "python",
   "name": "python3"
  },
  "language_info": {
   "codemirror_mode": {
    "name": "ipython",
    "version": 3
   },
   "file_extension": ".py",
   "mimetype": "text/x-python",
   "name": "python",
   "nbconvert_exporter": "python",
   "pygments_lexer": "ipython3",
   "version": "3.7.7"
  }
 },
 "nbformat": 4,
 "nbformat_minor": 4
}
