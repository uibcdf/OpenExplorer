{
 "cells": [
  {
   "cell_type": "code",
   "execution_count": 3,
   "metadata": {},
   "outputs": [],
   "source": [
    "from simtk.openmm.app import AmberPrmtopFile, AmberInpcrdFile\n",
    "from simtk.openmm.app import NoCutoff, OBC2, HBonds\n",
    "from simtk.openmm import Context, VerletIntegrator\n",
    "import simtk.unit as u\n",
    "\n",
    "prmtop = AmberPrmtopFile('alanine-dipeptide-implicit.prmtop')\n",
    "inpcrd = AmberInpcrdFile('alanine-dipeptide-implicit.inpcrd')\n",
    "system = prmtop.createSystem(nonbondedMethod=NoCutoff, implicitSolvent=OBC2,\n",
    "                             constraints=HBonds)\n",
    "positions = inpcrd.getPositions(asNumpy=True)\n",
    "integrator = VerletIntegrator(1.0 * u.femtoseconds)\n",
    "context = Context(system, integrator)\n",
    "context.setPositions(positions)"
   ]
  },
  {
   "cell_type": "code",
   "execution_count": 8,
   "metadata": {},
   "outputs": [],
   "source": [
    "velocities = context.getState(getVelocities=True).getVelocities(asNumpy=True)"
   ]
  },
  {
   "cell_type": "code",
   "execution_count": 9,
   "metadata": {},
   "outputs": [
    {
     "data": {
      "text/plain": [
       "Quantity(value=0.0, unit=nanometer**2/(picosecond**2))"
      ]
     },
     "execution_count": 9,
     "metadata": {},
     "output_type": "execute_result"
    }
   ],
   "source": [
    "(velocities**2).sum()"
   ]
  },
  {
   "cell_type": "code",
   "execution_count": 10,
   "metadata": {},
   "outputs": [
    {
     "data": {
      "text/plain": [
       "Quantity(value=0.10234415104787331, unit=kilojoule/mole)"
      ]
     },
     "execution_count": 10,
     "metadata": {},
     "output_type": "execute_result"
    }
   ],
   "source": [
    "context.getState(getEnergy=True).getKineticEnergy()"
   ]
  },
  {
   "cell_type": "code",
   "execution_count": null,
   "metadata": {},
   "outputs": [],
   "source": []
  }
 ],
 "metadata": {
  "kernelspec": {
   "display_name": "Python 3",
   "language": "python",
   "name": "python3"
  },
  "language_info": {
   "codemirror_mode": {
    "name": "ipython",
    "version": 3
   },
   "file_extension": ".py",
   "mimetype": "text/x-python",
   "name": "python",
   "nbconvert_exporter": "python",
   "pygments_lexer": "ipython3",
   "version": "3.7.7"
  }
 },
 "nbformat": 4,
 "nbformat_minor": 4
}
