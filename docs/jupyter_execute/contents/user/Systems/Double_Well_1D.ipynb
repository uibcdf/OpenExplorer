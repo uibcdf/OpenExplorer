{
 "cells": [
  {
   "cell_type": "code",
   "execution_count": 1,
   "metadata": {},
   "outputs": [],
   "source": [
    "%load_ext autoreload\n",
    "%autoreload 2"
   ]
  },
  {
   "cell_type": "code",
   "execution_count": 2,
   "metadata": {},
   "outputs": [
    {
     "name": "stderr",
     "output_type": "stream",
     "text": [
      "Warning: importing 'simtk.openmm' is deprecated.  Import 'openmm' instead.\n"
     ]
    },
    {
     "name": "stderr",
     "output_type": "stream",
     "text": [
      "/home/diego/MyMachine/locals/miniconda/envs/OpenExplorer/lib/python3.7/site-packages/MDAnalysis/coordinates/chemfiles.py:108: DeprecationWarning: distutils Version classes are deprecated. Use packaging.version instead.\n",
      "  MIN_CHEMFILES_VERSION = LooseVersion(\"0.9\")\n"
     ]
    },
    {
     "data": {
      "application/vnd.jupyter.widget-view+json": {
       "model_id": "95554a5e017a4ea384da897961341daf",
       "version_major": 2,
       "version_minor": 0
      },
      "text/plain": []
     },
     "metadata": {},
     "output_type": "display_data"
    },
    {
     "name": "stdout",
     "output_type": "stream",
     "text": [
      "no need to add nglview patch\n"
     ]
    }
   ],
   "source": [
    "import molsysmt as msm\n",
    "import openexplorer as oe\n",
    "import numpy as np\n",
    "from simtk import unit\n",
    "from simtk.openmm import app\n",
    "from tqdm import tqdm\n",
    "import matplotlib.pyplot as plt"
   ]
  },
  {
   "cell_type": "markdown",
   "metadata": {},
   "source": [
    "# 1D Double Well"
   ]
  },
  {
   "cell_type": "code",
   "execution_count": 3,
   "metadata": {},
   "outputs": [
    {
     "ename": "ModuleNotFoundError",
     "evalue": "No module named 'uibcdf_test_systems'",
     "output_type": "error",
     "traceback": [
      "\u001b[0;31m---------------------------------------------------------------------------\u001b[0m",
      "\u001b[0;31mModuleNotFoundError\u001b[0m                       Traceback (most recent call last)",
      "\u001b[0;32m/tmp/ipykernel_247262/2798518237.py\u001b[0m in \u001b[0;36m<module>\u001b[0;34m\u001b[0m\n\u001b[0;32m----> 1\u001b[0;31m \u001b[0;32mfrom\u001b[0m \u001b[0muibcdf_test_systems\u001b[0m\u001b[0;34m.\u001b[0m\u001b[0msystems\u001b[0m \u001b[0;32mimport\u001b[0m \u001b[0mDoubleWell\u001b[0m\u001b[0;34m\u001b[0m\u001b[0;34m\u001b[0m\u001b[0m\n\u001b[0m\u001b[1;32m      2\u001b[0m \u001b[0;34m\u001b[0m\u001b[0m\n\u001b[1;32m      3\u001b[0m double_well_symmetric = DoubleWell(n_particles = 1, mass = 64 * unit.amu, Eo=3.0 * unit.kilocalories_per_mole,\n\u001b[1;32m      4\u001b[0m                                    a=1.0 * unit.nanometers, b=0.0 * unit.kilocalories_per_mole)\n",
      "\u001b[0;31mModuleNotFoundError\u001b[0m: No module named 'uibcdf_test_systems'"
     ]
    }
   ],
   "source": [
    "from uibcdf_test_systems.systems import DoubleWell\n",
    "\n",
    "double_well_symmetric = DoubleWell(n_particles = 1, mass = 64 * unit.amu, Eo=3.0 * unit.kilocalories_per_mole,\n",
    "                                   a=1.0 * unit.nanometers, b=0.0 * unit.kilocalories_per_mole)\n"
   ]
  },
  {
   "cell_type": "code",
   "execution_count": 4,
   "metadata": {},
   "outputs": [],
   "source": [
    "explorer = oe.Explorer(double_well_symmetric.topology, double_well_symmetric.system, platform='CUDA')\n",
    "explorer.set_coordinates([[1.0, 0.0, 0.0]]*unit.nanometers)"
   ]
  },
  {
   "cell_type": "code",
   "execution_count": 5,
   "metadata": {},
   "outputs": [],
   "source": [
    "explorer.quench.l_bfgs()"
   ]
  },
  {
   "cell_type": "code",
   "execution_count": 6,
   "metadata": {},
   "outputs": [
    {
     "data": {
      "text/plain": [
       "Quantity(value=array([[1., 0., 0.]]), unit=nanometer)"
      ]
     },
     "execution_count": 6,
     "metadata": {},
     "output_type": "execute_result"
    }
   ],
   "source": [
    "explorer.get_coordinates()"
   ]
  },
  {
   "cell_type": "code",
   "execution_count": 7,
   "metadata": {},
   "outputs": [
    {
     "data": {
      "text/plain": [
       "Quantity(value=-12.552000045776367, unit=kilojoule/mole)"
      ]
     },
     "execution_count": 7,
     "metadata": {},
     "output_type": "execute_result"
    }
   ],
   "source": [
    "explorer.get_potential_energy()"
   ]
  },
  {
   "cell_type": "code",
   "execution_count": 8,
   "metadata": {},
   "outputs": [],
   "source": [
    "minima, periods = double_well_symmetric.harmonic_oscillation_periods()"
   ]
  },
  {
   "cell_type": "code",
   "execution_count": 9,
   "metadata": {},
   "outputs": [
    {
     "name": "stdout",
     "output_type": "stream",
     "text": [
      "[Quantity(value=array([5.01612553, 5.01612553, 5.01612553]), unit=picosecond), Quantity(value=array([5.01612553, 5.01612553, 5.01612553]), unit=picosecond)]\n"
     ]
    }
   ],
   "source": [
    "print(periods)"
   ]
  },
  {
   "cell_type": "code",
   "execution_count": 10,
   "metadata": {},
   "outputs": [],
   "source": [
    "minima, sigmas = double_well_symmetric.harmonic_standard_deviations()"
   ]
  },
  {
   "cell_type": "code",
   "execution_count": 11,
   "metadata": {},
   "outputs": [
    {
     "name": "stdout",
     "output_type": "stream",
     "text": [
      "[Quantity(value=array([0.15708113, 0.15708113, 0.15708113]), unit=nanometer), Quantity(value=array([0.15708113, 0.15708113, 0.15708113]), unit=nanometer)]\n"
     ]
    }
   ],
   "source": [
    "print(sigmas)"
   ]
  },
  {
   "cell_type": "markdown",
   "metadata": {},
   "source": [
    "## MonteCarlo"
   ]
  },
  {
   "cell_type": "markdown",
   "metadata": {},
   "source": [
    "### Mis preguntas\n",
    "\n",
    "- Será que hay un compromiso entre longitud de paso y aceptación? la termodinámica convergerá antes si el paso es grande aun a costa de bajar la tasa de aceptación? No creo ¿verdad? Porque lo que no se acepta se repite."
   ]
  },
  {
   "cell_type": "code",
   "execution_count": 12,
   "metadata": {},
   "outputs": [],
   "source": [
    "explorer.set_coordinates([[1.0, 0.0, 0.0]]*unit.nanometers)\n",
    "explorer.quench.l_bfgs()"
   ]
  },
  {
   "cell_type": "code",
   "execution_count": 13,
   "metadata": {},
   "outputs": [],
   "source": [
    "explorer.move.cartesian_shifts.set_parameters(mode_atoms='all', stepsize=1.77*0.157*unit.nanometers)\n",
    "explorer.acceptance.metropolis_hastings.set_parameters(temperature=298.0*unit.kelvin)"
   ]
  },
  {
   "cell_type": "code",
   "execution_count": 14,
   "metadata": {},
   "outputs": [
    {
     "name": "stderr",
     "output_type": "stream",
     "text": [
      "100%|██████████| 250000/250000 [04:33<00:00, 913.56it/s] \n"
     ]
    }
   ],
   "source": [
    "n_moves = 250000\n",
    "trajectory = []*unit.nanometers\n",
    "potential_energies = []*unit.kilojoules_per_mole\n",
    "\n",
    "previous_coordinates = explorer.get_coordinates()\n",
    "previous_potential_energy = explorer.get_potential_energy()\n",
    "\n",
    "trajectory.append(previous_coordinates)\n",
    "potential_energies.append(previous_potential_energy)\n",
    "\n",
    "for _ in tqdm(range(n_moves)):\n",
    "    explorer.move.cartesian_shifts()    \n",
    "    explorer.acceptance.metropolis_hastings(previous_coordinates=previous_coordinates,\n",
    "                                            previous_potential_energy=previous_potential_energy)\n",
    "    if explorer.acceptance.metropolis_hastings.accepted:\n",
    "        previous_coordinates = explorer.get_coordinates()\n",
    "        previous_potential_energy = explorer.get_potential_energy()\n",
    "    trajectory.append(previous_coordinates)\n",
    "    potential_energies.append(previous_potential_energy)"
   ]
  },
  {
   "cell_type": "code",
   "execution_count": 15,
   "metadata": {},
   "outputs": [
    {
     "data": {
      "text/plain": [
       "2857"
      ]
     },
     "execution_count": 15,
     "metadata": {},
     "output_type": "execute_result"
    }
   ],
   "source": [
    "explorer.acceptance.metropolis_hastings.n_accepted"
   ]
  },
  {
   "cell_type": "code",
   "execution_count": 16,
   "metadata": {},
   "outputs": [],
   "source": [
    "trajectory._value = np.array(trajectory._value)"
   ]
  },
  {
   "cell_type": "code",
   "execution_count": 17,
   "metadata": {},
   "outputs": [
    {
     "data": {
      "image/png": "[encoded data removed]",
      "text/plain": [
       "<Figure size 432x288 with 1 Axes>"
      ]
     },
     "metadata": {
      "filenames": {
       "image/png": "/home/diego/projects-uibcdf/OpenExplorer/docs/jupyter_execute/contents/user/Systems/Double_Well_1D_19_0.png"
      },
      "needs_background": "light"
     },
     "output_type": "display_data"
    }
   ],
   "source": [
    "plt.plot(trajectory[:,0,0])\n",
    "plt.show()"
   ]
  },
  {
   "cell_type": "code",
   "execution_count": 18,
   "metadata": {},
   "outputs": [
    {
     "name": "stderr",
     "output_type": "stream",
     "text": [
      "/home/diego/Myusr/opt/miniconda3/envs/UIBCDF_lab_dev/lib/python3.7/site-packages/simtk/unit/quantity.py:494: RuntimeWarning: Mean of empty slice.\n",
      "  mean = self._value.mean(*args, **kwargs)\n",
      "/home/diego/Myusr/opt/miniconda3/envs/UIBCDF_lab_dev/lib/python3.7/site-packages/numpy/core/_methods.py:161: RuntimeWarning: invalid value encountered in double_scalars\n",
      "  ret = ret.dtype.type(ret / rcount)\n"
     ]
    }
   ],
   "source": [
    "trajectory2 = trajectory**2\n",
    "\n",
    "x_med = np.zeros(trajectory.shape)*trajectory.unit\n",
    "x2_med = np.zeros(trajectory.shape)*trajectory2.unit\n",
    "\n",
    "for ii in range(trajectory.shape[0]):\n",
    "    x_med[ii]=trajectory[:ii].mean()\n",
    "    x2_med[ii]=trajectory2[:ii].mean()"
   ]
  },
  {
   "cell_type": "code",
   "execution_count": 19,
   "metadata": {},
   "outputs": [
    {
     "data": {
      "text/plain": [
       "(250001, 1, 3)"
      ]
     },
     "execution_count": 19,
     "metadata": {},
     "output_type": "execute_result"
    }
   ],
   "source": [
    "x_med.shape"
   ]
  },
  {
   "cell_type": "code",
   "execution_count": 20,
   "metadata": {},
   "outputs": [
    {
     "data": {
      "image/png": "[encoded data removed]",
      "text/plain": [
       "<Figure size 432x288 with 1 Axes>"
      ]
     },
     "metadata": {
      "filenames": {
       "image/png": "/home/diego/projects-uibcdf/OpenExplorer/docs/jupyter_execute/contents/user/Systems/Double_Well_1D_22_0.png"
      },
      "needs_background": "light"
     },
     "output_type": "display_data"
    }
   ],
   "source": [
    "plt.plot(x_med[:,0,0])\n",
    "plt.show()"
   ]
  },
  {
   "cell_type": "code",
   "execution_count": 21,
   "metadata": {},
   "outputs": [
    {
     "data": {
      "image/png": "[encoded data removed]",
      "text/plain": [
       "<Figure size 432x288 with 1 Axes>"
      ]
     },
     "metadata": {
      "filenames": {
       "image/png": "/home/diego/projects-uibcdf/OpenExplorer/docs/jupyter_execute/contents/user/Systems/Double_Well_1D_23_0.png"
      },
      "needs_background": "light"
     },
     "output_type": "display_data"
    }
   ],
   "source": [
    "plt.plot(x2_med[:,0,0])\n",
    "plt.show()"
   ]
  },
  {
   "cell_type": "markdown",
   "metadata": {},
   "source": [
    "## Langevin Dynamics"
   ]
  },
  {
   "cell_type": "code",
   "execution_count": null,
   "metadata": {},
   "outputs": [],
   "source": [
    "explorer.md.langevin.set_parameters(timestep=0.2*unit.picoseconds)"
   ]
  },
  {
   "cell_type": "code",
   "execution_count": null,
   "metadata": {},
   "outputs": [],
   "source": [
    "explorer.md.langevin.get_parameters()"
   ]
  },
  {
   "cell_type": "code",
   "execution_count": null,
   "metadata": {},
   "outputs": [],
   "source": [
    "explorer.set_coordinates([[1.0, 0.0, 0.0]]*unit.nanometers)\n",
    "explorer.quench.l_bfgs()"
   ]
  },
  {
   "cell_type": "code",
   "execution_count": null,
   "metadata": {},
   "outputs": [],
   "source": [
    "trajectory = []*unit.nanometers\n",
    "potential_energies = []*unit.kilojoules_per_mole\n",
    "time = []*unit.picoseconds\n",
    "\n",
    "saving_time = 0.2*unit.picoseconds\n",
    "md_time = 50*unit.nanoseconds\n",
    "timestep = explorer.md.langevin.get_parameters()['timestep']\n",
    "\n",
    "n_steps_cicle = int(saving_time/timestep)\n",
    "n_cicles = int(md_time/saving_time)\n",
    "\n",
    "for _ in tqdm(range(n_cicles)):\n",
    "    explorer.md.langevin(n_steps_cicle)\n",
    "    trajectory.append(explorer.get_coordinates())\n",
    "    time(explorer.md.langevin.get_time())\n",
    "    potential_energies.append(explorer.get_potential_energy())"
   ]
  },
  {
   "cell_type": "code",
   "execution_count": null,
   "metadata": {},
   "outputs": [],
   "source": [
    "time._value = np.array(time._value)\n",
    "trajectory._value = np.array(trajectory._value)"
   ]
  },
  {
   "cell_type": "code",
   "execution_count": null,
   "metadata": {},
   "outputs": [],
   "source": [
    "total_n_steps = n_cicles*n_steps_cicle\n",
    "print(total_n_steps)"
   ]
  },
  {
   "cell_type": "code",
   "execution_count": null,
   "metadata": {},
   "outputs": [],
   "source": [
    "plt.plot(time, trajectory)\n",
    "plt.show()"
   ]
  },
  {
   "cell_type": "code",
   "execution_count": null,
   "metadata": {},
   "outputs": [],
   "source": [
    "trajectory2 = trajectory**2"
   ]
  },
  {
   "cell_type": "code",
   "execution_count": null,
   "metadata": {},
   "outputs": [],
   "source": [
    "x_med = np.zeros(trajectory.shape)*trajectory.unit\n",
    "x2_med = np.zeros(trajectory.shape)*trajectory2.unit"
   ]
  },
  {
   "cell_type": "code",
   "execution_count": null,
   "metadata": {},
   "outputs": [],
   "source": [
    "for ii in range(trajectory.shape[0]):\n",
    "    x_med[ii]=trajectory[:ii].mean()\n",
    "    x2_med[ii]=trajectory2[:ii].mean()"
   ]
  },
  {
   "cell_type": "code",
   "execution_count": null,
   "metadata": {},
   "outputs": [],
   "source": [
    "plt.plot(time, x_med)\n",
    "plt.show()"
   ]
  },
  {
   "cell_type": "code",
   "execution_count": null,
   "metadata": {},
   "outputs": [],
   "source": [
    "plt.plot(time, x2_med)\n",
    "plt.show()"
   ]
  },
  {
   "cell_type": "markdown",
   "metadata": {},
   "source": [
    "- Para elegir el movimiento puedo monitorizar también el delta X 2 promedio de los aceptados\n",
    "- Ver pag 47 of Understanding Molecular Simulations"
   ]
  },
  {
   "cell_type": "markdown",
   "metadata": {},
   "source": [
    "## Mixed MonteCarlo and Stochastic Dynamics"
   ]
  },
  {
   "cell_type": "code",
   "execution_count": null,
   "metadata": {},
   "outputs": [],
   "source": []
  }
 ],
 "metadata": {
  "kernelspec": {
   "display_name": "Python 3",
   "language": "python",
   "name": "python3"
  },
  "language_info": {
   "codemirror_mode": {
    "name": "ipython",
    "version": 3
   },
   "file_extension": ".py",
   "mimetype": "text/x-python",
   "name": "python",
   "nbconvert_exporter": "python",
   "pygments_lexer": "ipython3",
   "version": "3.7.12"
  }
 },
 "nbformat": 4,
 "nbformat_minor": 4
}