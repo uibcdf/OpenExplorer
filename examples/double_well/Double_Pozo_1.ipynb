{
 "cells": [
  {
   "cell_type": "code",
   "execution_count": 1,
   "metadata": {},
   "outputs": [],
   "source": [
    "from simtk import openmm, unit\n",
    "from simtk.openmm import app\n",
    "import numpy as np\n",
    "import matplotlib.pyplot as plt\n",
    "import seaborn as sns"
   ]
  },
  {
   "cell_type": "markdown",
   "metadata": {},
   "source": [
    "# System properties\n",
    "\n",
    "- 1 particle\n",
    "- Mass"
   ]
  },
  {
   "cell_type": "code",
   "execution_count": 2,
   "metadata": {},
   "outputs": [],
   "source": [
    "mass = 100.0 * unit.amu"
   ]
  },
  {
   "cell_type": "code",
   "execution_count": 3,
   "metadata": {},
   "outputs": [],
   "source": [
    "system = openmm.System()"
   ]
  },
  {
   "cell_type": "code",
   "execution_count": 4,
   "metadata": {},
   "outputs": [
    {
     "data": {
      "text/plain": [
       "0"
      ]
     },
     "execution_count": 4,
     "metadata": {},
     "output_type": "execute_result"
    }
   ],
   "source": [
    "system.addParticle(mass)"
   ]
  },
  {
   "cell_type": "code",
   "execution_count": 5,
   "metadata": {},
   "outputs": [],
   "source": [
    "force = openmm.CustomExternalForce('A*x^4+B*x^2+C*x + D*(y^2+z^2)')"
   ]
  },
  {
   "cell_type": "code",
   "execution_count": 6,
   "metadata": {},
   "outputs": [],
   "source": [
    "Eo=4.0 * unit.kilocalories_per_mole\n",
    "a=1.0 * unit.nanometers\n",
    "b=0.0 * unit.kilocalories_per_mole\n",
    "\n",
    "k = 8.0*Eo/(a**2) # stiffness of the armonic potential for coordinates Y and Z\n",
    "\n",
    "A = Eo/(a**4)\n",
    "B = -2.0*Eo/(a**2)\n",
    "C = -b/a\n",
    "D = k/2.0"
   ]
  },
  {
   "cell_type": "code",
   "execution_count": 7,
   "metadata": {},
   "outputs": [
    {
     "data": {
      "text/plain": [
       "3"
      ]
     },
     "execution_count": 7,
     "metadata": {},
     "output_type": "execute_result"
    }
   ],
   "source": [
    "force.addGlobalParameter('A', A)\n",
    "force.addGlobalParameter('B', B)\n",
    "force.addGlobalParameter('C', C)\n",
    "force.addGlobalParameter('D', D)"
   ]
  },
  {
   "cell_type": "code",
   "execution_count": 8,
   "metadata": {},
   "outputs": [
    {
     "data": {
      "text/plain": [
       "0"
      ]
     },
     "execution_count": 8,
     "metadata": {},
     "output_type": "execute_result"
    }
   ],
   "source": [
    "force.addParticle(0)"
   ]
  },
  {
   "cell_type": "code",
   "execution_count": 9,
   "metadata": {},
   "outputs": [
    {
     "data": {
      "text/plain": [
       "0"
      ]
     },
     "execution_count": 9,
     "metadata": {},
     "output_type": "execute_result"
    }
   ],
   "source": [
    "system.addForce(force)"
   ]
  },
  {
   "cell_type": "code",
   "execution_count": 10,
   "metadata": {},
   "outputs": [],
   "source": [
    "temperature = 300.0*unit.kelvin\n",
    "friction = 0.5/unit.picoseconds\n",
    "integration_timestep = 0.02 * unit.picoseconds"
   ]
  },
  {
   "cell_type": "code",
   "execution_count": 11,
   "metadata": {},
   "outputs": [],
   "source": [
    "integrator = openmm.LangevinIntegrator(temperature, friction, integration_timestep)"
   ]
  },
  {
   "cell_type": "code",
   "execution_count": 12,
   "metadata": {},
   "outputs": [],
   "source": [
    "platform = openmm.Platform.getPlatformByName('CUDA')"
   ]
  },
  {
   "cell_type": "code",
   "execution_count": 13,
   "metadata": {},
   "outputs": [],
   "source": [
    "context = openmm.Context(system, integrator, platform)"
   ]
  },
  {
   "cell_type": "code",
   "execution_count": 14,
   "metadata": {},
   "outputs": [],
   "source": [
    "initial_positions =  np.zeros([1, 3], np.float32) * unit.nanometers\n",
    "initial_velocities = np.zeros([1, 3], np.float32) * unit.nanometers/unit.picoseconds"
   ]
  },
  {
   "cell_type": "code",
   "execution_count": 15,
   "metadata": {},
   "outputs": [
    {
     "data": {
      "text/plain": [
       "Quantity(value=array([[0., 0., 0.]], dtype=float32), unit=nanometer)"
      ]
     },
     "execution_count": 15,
     "metadata": {},
     "output_type": "execute_result"
    }
   ],
   "source": [
    "initial_positions"
   ]
  },
  {
   "cell_type": "code",
   "execution_count": 16,
   "metadata": {},
   "outputs": [],
   "source": [
    "initial_positions[0,0]=1.0*unit.nanometer"
   ]
  },
  {
   "cell_type": "code",
   "execution_count": 17,
   "metadata": {},
   "outputs": [],
   "source": [
    "context.setPositions(initial_positions)"
   ]
  },
  {
   "cell_type": "code",
   "execution_count": 18,
   "metadata": {},
   "outputs": [],
   "source": [
    "context.setVelocities(initial_velocities)"
   ]
  },
  {
   "cell_type": "code",
   "execution_count": 19,
   "metadata": {},
   "outputs": [
    {
     "name": "stdout",
     "output_type": "stream",
     "text": [
      "Integration timestep: 0.02 ps\n",
      "Number of steps in saving period: 50\n",
      "Number of saving periods: 20000\n"
     ]
    }
   ],
   "source": [
    "saving_time = 1.0 * unit.picoseconds\n",
    "saving_steps = int(saving_time/integration_timestep)\n",
    "\n",
    "simulation_time = 20 * unit.nanoseconds\n",
    "simulation_steps = int(simulation_time/integration_timestep)\n",
    "n_saving_periods = int(simulation_steps/saving_steps)\n",
    "\n",
    "print('Integration timestep:', integration_timestep)\n",
    "print('Number of steps in saving period:', saving_steps)\n",
    "print('Number of saving periods:', n_saving_periods)"
   ]
  },
  {
   "cell_type": "code",
   "execution_count": 20,
   "metadata": {},
   "outputs": [],
   "source": [
    "n_frames = n_saving_periods + 1\n",
    "trajectory =  np.zeros([n_frames, 1, 3], np.float32) * unit.nanometers\n",
    "time = np.zeros([n_frames], np.float32) * unit.nanoseconds"
   ]
  },
  {
   "cell_type": "code",
   "execution_count": 21,
   "metadata": {},
   "outputs": [],
   "source": [
    "trajectory[0, :, :] = initial_positions\n",
    "time[0]= 0 * unit.picoseconds"
   ]
  },
  {
   "cell_type": "code",
   "execution_count": 22,
   "metadata": {},
   "outputs": [],
   "source": [
    "for ii in range(n_saving_periods):\n",
    "    integrator.step(saving_steps)\n",
    "    state = context.getState(getPositions=True)\n",
    "    trajectory[ii+1, :, :] = state.getPositions()\n",
    "    time[ii+1]=state.getTime()"
   ]
  },
  {
   "cell_type": "code",
   "execution_count": 23,
   "metadata": {},
   "outputs": [
    {
     "data": {
      "image/png": "[encoded data removed]",
      "text/plain": [
       "<Figure size 432x288 with 1 Axes>"
      ]
     },
     "metadata": {
      "needs_background": "light"
     },
     "output_type": "display_data"
    }
   ],
   "source": [
    "plt.plot(time, trajectory[:, 0, 0])\n",
    "plt.xlabel('Time [{}]'.format(time.unit))\n",
    "plt.ylabel('X [{}]'.format(trajectory.unit))\n",
    "plt.show()"
   ]
  },
  {
   "cell_type": "code",
   "execution_count": 24,
   "metadata": {},
   "outputs": [
    {
     "data": {
      "image/png": "[encoded data removed]",
      "text/plain": [
       "<Figure size 432x288 with 1 Axes>"
      ]
     },
     "metadata": {
      "needs_background": "light"
     },
     "output_type": "display_data"
    }
   ],
   "source": [
    "sns.histplot(trajectory[:,0,0], bins=60)\n",
    "plt.show()"
   ]
  },
  {
   "cell_type": "code",
   "execution_count": 25,
   "metadata": {},
   "outputs": [
    {
     "name": "stdout",
     "output_type": "stream",
     "text": [
      "Left occupation: 4088\n",
      "Right occupation: 15913\n"
     ]
    }
   ],
   "source": [
    "in_left = trajectory[:, 0, 0] < 0.0*unit.nanometers\n",
    "in_right = trajectory[:, 0, 0] >= 0.0*unit.nanometers\n",
    "n_left=in_left.sum()\n",
    "n_right=in_right.sum()\n",
    "\n",
    "print('Left occupation:', n_left)\n",
    "print('Right occupation:', n_right)"
   ]
  },
  {
   "cell_type": "code",
   "execution_count": 26,
   "metadata": {},
   "outputs": [
    {
     "name": "stdout",
     "output_type": "stream",
     "text": [
      "Left probability: 0.20438978051097445\n",
      "Right probability: 0.7956102194890255\n"
     ]
    }
   ],
   "source": [
    "P_left = n_left/n_frames\n",
    "P_right = n_right/n_frames\n",
    "\n",
    "print('Left probability:', P_left)\n",
    "print('Right probability:', P_right)"
   ]
  },
  {
   "cell_type": "markdown",
   "metadata": {},
   "source": [
    "https://seaborn.pydata.org/tutorial/distributions.html#tutorial-hist"
   ]
  }
 ],
 "metadata": {
  "kernelspec": {
   "display_name": "Python 3",
   "language": "python",
   "name": "python3"
  },
  "language_info": {
   "codemirror_mode": {
    "name": "ipython",
    "version": 3
   },
   "file_extension": ".py",
   "mimetype": "text/x-python",
   "name": "python",
   "nbconvert_exporter": "python",
   "pygments_lexer": "ipython3",
   "version": "3.7.7"
  }
 },
 "nbformat": 4,
 "nbformat_minor": 4
}
