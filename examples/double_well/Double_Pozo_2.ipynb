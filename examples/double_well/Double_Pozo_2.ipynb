{
 "cells": [
  {
   "cell_type": "code",
   "execution_count": 1,
   "metadata": {},
   "outputs": [],
   "source": [
    "from simtk import openmm, unit\n",
    "from simtk.openmm import app\n",
    "import numpy as np\n",
    "import pandas as pd"
   ]
  },
  {
   "cell_type": "code",
   "execution_count": 2,
   "metadata": {},
   "outputs": [],
   "source": [
    "def run_double_well(mass, Eo, a, b,\n",
    "                   temperature, friction, integration_timestep, initial_position,\n",
    "                   saving_time, simulation_time):\n",
    "    \n",
    "    system = openmm.System()\n",
    "    system.addParticle(mass)\n",
    "    force = openmm.CustomExternalForce('A*x^4+B*x^2+C*x + D*(y^2+z^2)')\n",
    "    \n",
    "    k = 8.0*Eo/(a**2) # stiffness of the armonic potential for coordinates Y and Z\n",
    "    A = Eo/(a**4)\n",
    "    B = -2.0*Eo/(a**2)\n",
    "    C = -b/a\n",
    "    D = k/2.0\n",
    "    \n",
    "    force.addGlobalParameter('A', A)\n",
    "    force.addGlobalParameter('B', B)\n",
    "    force.addGlobalParameter('C', C)\n",
    "    force.addGlobalParameter('D', D)\n",
    "    \n",
    "    force.addParticle(0)\n",
    "    system.addForce(force)\n",
    "    \n",
    "    integrator = openmm.LangevinIntegrator(temperature, friction, integration_timestep)\n",
    "    platform = openmm.Platform.getPlatformByName('CUDA')\n",
    "    context = openmm.Context(system, integrator, platform)\n",
    "    \n",
    "    initial_positions =  np.zeros([1, 3], np.float32) * unit.nanometers\n",
    "    initial_positions[0,0]= initial_position    \n",
    "    context.setPositions(initial_positions)\n",
    "\n",
    "    initial_velocities = np.zeros([1, 3], np.float32) * unit.nanometers/unit.picoseconds\n",
    "    context.setVelocities(initial_velocities)\n",
    "    \n",
    "    saving_steps = int(saving_time/integration_timestep)\n",
    "    simulation_steps = int(simulation_time/integration_timestep)\n",
    "    n_saving_periods = int(simulation_steps/saving_steps)\n",
    "    \n",
    "    n_frames = n_saving_periods + 1\n",
    "    trajectory =  np.zeros([n_frames, 1, 3], np.float32) * unit.nanometers\n",
    "    time = np.zeros([n_frames], np.float32) * unit.nanoseconds\n",
    "    \n",
    "    trajectory[0, :, :] = initial_positions\n",
    "    time[0]= 0 * unit.picoseconds\n",
    "    \n",
    "    for ii in range(n_saving_periods):\n",
    "        integrator.step(saving_steps)\n",
    "        state = context.getState(getPositions=True)\n",
    "        trajectory[ii+1, :, :] = state.getPositions()\n",
    "        time[ii+1]=state.getTime()\n",
    "    \n",
    "    return time, trajectory"
   ]
  },
  {
   "cell_type": "code",
   "execution_count": 3,
   "metadata": {},
   "outputs": [],
   "source": [
    "def get_probability_left (trajectory, barrier=0.0*unit.nanometers):\n",
    "    occupancy = (trajectory[:, 0, 0] < barrier).sum()\n",
    "    n_frames = trajectory.shape[0]\n",
    "    return occupancy/n_frames\n",
    "\n",
    "def get_probability_right (trajectory, barrier=0.0*unit.nanometers):\n",
    "    occupancy = (trajectory[:, 0, 0] >= barrier).sum()\n",
    "    n_frames = trajectory.shape[0]\n",
    "    return occupancy/n_frames\n",
    "\n",
    "def average_position (trajectory):\n",
    "    return trajectory[:, 0, 0].mean()\n",
    "\n",
    "def standard_deviation_position(trajectory):\n",
    "    return trajectory[:, 0, 0].std()"
   ]
  },
  {
   "cell_type": "code",
   "execution_count": 4,
   "metadata": {},
   "outputs": [],
   "source": [
    "mass = 100.0 * unit.amu\n",
    "Eo=4.0 * unit.kilocalories_per_mole\n",
    "a=1.0 * unit.nanometers\n",
    "b=0.0 * unit.kilocalories_per_mole\n",
    "\n",
    "temperature = 300.0*unit.kelvin\n",
    "friction = 0.5/unit.picoseconds\n",
    "integration_timestep = 0.02 * unit.picoseconds\n",
    "\n",
    "saving_time = 0.1 * unit.picoseconds\n",
    "simulation_time = 0.5 * unit.nanoseconds\n",
    "\n",
    "initial_position = 1.0 * unit.nanometers"
   ]
  },
  {
   "cell_type": "code",
   "execution_count": 5,
   "metadata": {},
   "outputs": [],
   "source": [
    "time, trajectory = run_double_well(mass, Eo, a, b,\n",
    "                   temperature, friction, integration_timestep, initial_position,\n",
    "                   saving_time, simulation_time)"
   ]
  },
  {
   "cell_type": "code",
   "execution_count": 6,
   "metadata": {},
   "outputs": [
    {
     "data": {
      "text/plain": [
       "0.0"
      ]
     },
     "execution_count": 6,
     "metadata": {},
     "output_type": "execute_result"
    }
   ],
   "source": [
    "get_probability_left(trajectory)"
   ]
  },
  {
   "cell_type": "code",
   "execution_count": 7,
   "metadata": {},
   "outputs": [
    {
     "data": {
      "text/plain": [
       "1.0"
      ]
     },
     "execution_count": 7,
     "metadata": {},
     "output_type": "execute_result"
    }
   ],
   "source": [
    "get_probability_right(trajectory)"
   ]
  },
  {
   "cell_type": "code",
   "execution_count": 8,
   "metadata": {},
   "outputs": [
    {
     "data": {
      "text/plain": [
       "Quantity(value=0.96286213, unit=nanometer)"
      ]
     },
     "execution_count": 8,
     "metadata": {},
     "output_type": "execute_result"
    }
   ],
   "source": [
    "average_position(trajectory)"
   ]
  },
  {
   "cell_type": "code",
   "execution_count": 9,
   "metadata": {},
   "outputs": [
    {
     "data": {
      "text/plain": [
       "Quantity(value=0.1508024, unit=nanometer)"
      ]
     },
     "execution_count": 9,
     "metadata": {},
     "output_type": "execute_result"
    }
   ],
   "source": [
    "standard_deviation_position(trajectory)"
   ]
  },
  {
   "cell_type": "markdown",
   "metadata": {},
   "source": [
    "## Lets make some statistics"
   ]
  },
  {
   "cell_type": "code",
   "execution_count": 10,
   "metadata": {},
   "outputs": [],
   "source": [
    "simulation_times = np.linspace(1.0, 2000.0, num=10) * unit.picoseconds\n",
    "n_runs = 10"
   ]
  },
  {
   "cell_type": "code",
   "execution_count": 11,
   "metadata": {},
   "outputs": [],
   "source": [
    "data = [pd.DataFrame(columns=['P_left', 'P_right', 'X_mean', 'X_std']) for ii in simulation_times]"
   ]
  },
  {
   "cell_type": "code",
   "execution_count": 12,
   "metadata": {},
   "outputs": [
    {
     "name": "stdout",
     "output_type": "stream",
     "text": [
      "simulation_time: 1.0 ps\n",
      "     run: 0\n",
      "     run: 1\n",
      "     run: 2\n",
      "     run: 3\n",
      "     run: 4\n",
      "     run: 5\n",
      "     run: 6\n",
      "     run: 7\n",
      "     run: 8\n",
      "     run: 9\n",
      "simulation_time: 223.11111111111111 ps\n",
      "     run: 0\n",
      "     run: 1\n",
      "     run: 2\n",
      "     run: 3\n",
      "     run: 4\n",
      "     run: 5\n",
      "     run: 6\n",
      "     run: 7\n",
      "     run: 8\n",
      "     run: 9\n",
      "simulation_time: 445.22222222222223 ps\n",
      "     run: 0\n",
      "     run: 1\n",
      "     run: 2\n",
      "     run: 3\n",
      "     run: 4\n",
      "     run: 5\n",
      "     run: 6\n",
      "     run: 7\n",
      "     run: 8\n",
      "     run: 9\n",
      "simulation_time: 667.3333333333334 ps\n",
      "     run: 0\n",
      "     run: 1\n",
      "     run: 2\n",
      "     run: 3\n",
      "     run: 4\n",
      "     run: 5\n",
      "     run: 6\n",
      "     run: 7\n",
      "     run: 8\n",
      "     run: 9\n",
      "simulation_time: 889.4444444444445 ps\n",
      "     run: 0\n",
      "     run: 1\n",
      "     run: 2\n",
      "     run: 3\n",
      "     run: 4\n",
      "     run: 5\n",
      "     run: 6\n",
      "     run: 7\n",
      "     run: 8\n",
      "     run: 9\n",
      "simulation_time: 1111.5555555555557 ps\n",
      "     run: 0\n",
      "     run: 1\n",
      "     run: 2\n",
      "     run: 3\n",
      "     run: 4\n",
      "     run: 5\n",
      "     run: 6\n",
      "     run: 7\n",
      "     run: 8\n",
      "     run: 9\n",
      "simulation_time: 1333.6666666666667 ps\n",
      "     run: 0\n",
      "     run: 1\n",
      "     run: 2\n",
      "     run: 3\n",
      "     run: 4\n",
      "     run: 5\n",
      "     run: 6\n",
      "     run: 7\n",
      "     run: 8\n",
      "     run: 9\n",
      "simulation_time: 1555.7777777777778 ps\n",
      "     run: 0\n",
      "     run: 1\n",
      "     run: 2\n",
      "     run: 3\n",
      "     run: 4\n",
      "     run: 5\n",
      "     run: 6\n",
      "     run: 7\n",
      "     run: 8\n",
      "     run: 9\n",
      "simulation_time: 1777.888888888889 ps\n",
      "     run: 0\n",
      "     run: 1\n",
      "     run: 2\n",
      "     run: 3\n",
      "     run: 4\n",
      "     run: 5\n",
      "     run: 6\n",
      "     run: 7\n",
      "     run: 8\n",
      "     run: 9\n",
      "simulation_time: 2000.0 ps\n",
      "     run: 0\n",
      "     run: 1\n",
      "     run: 2\n",
      "     run: 3\n",
      "     run: 4\n",
      "     run: 5\n",
      "     run: 6\n",
      "     run: 7\n",
      "     run: 8\n",
      "     run: 9\n"
     ]
    }
   ],
   "source": [
    "for index in range(len(simulation_times)):\n",
    "    simulation_time = simulation_times[index]\n",
    "    print('simulation_time:', simulation_time)\n",
    "    for run_index in range(n_runs):\n",
    "        print('     run:',run_index)\n",
    "        time, trajectory = run_double_well(mass, Eo, a, b,\n",
    "                   temperature, friction, integration_timestep, initial_position,\n",
    "                   saving_time, simulation_time)\n",
    "        data[index].at['run_'+str(run_index),'P_left']=get_probability_left(trajectory)\n",
    "        data[index].at['run_'+str(run_index),'P_right']=get_probability_right(trajectory)\n",
    "        data[index].at['run_'+str(run_index),'X_mean']=average_position(trajectory)\n",
    "        data[index].at['run_'+str(run_index),'X_std']=standard_deviation_position(trajectory)"
   ]
  },
  {
   "cell_type": "code",
   "execution_count": 23,
   "metadata": {},
   "outputs": [
    {
     "data": {
      "text/html": [
       "<div>\n",
       "<style scoped>\n",
       "    .dataframe tbody tr th:only-of-type {\n",
       "        vertical-align: middle;\n",
       "    }\n",
       "\n",
       "    .dataframe tbody tr th {\n",
       "        vertical-align: top;\n",
       "    }\n",
       "\n",
       "    .dataframe thead th {\n",
       "        text-align: right;\n",
       "    }\n",
       "</style>\n",
       "<table border=\"1\" class=\"dataframe\">\n",
       "  <thead>\n",
       "    <tr style=\"text-align: right;\">\n",
       "      <th></th>\n",
       "      <th>P_left</th>\n",
       "      <th>P_right</th>\n",
       "      <th>X_mean</th>\n",
       "      <th>X_std</th>\n",
       "    </tr>\n",
       "  </thead>\n",
       "  <tbody>\n",
       "    <tr>\n",
       "      <th>run_0</th>\n",
       "      <td>0</td>\n",
       "      <td>1</td>\n",
       "      <td>0.9614373 nm</td>\n",
       "      <td>0.15872319 nm</td>\n",
       "    </tr>\n",
       "    <tr>\n",
       "      <th>run_1</th>\n",
       "      <td>0</td>\n",
       "      <td>1</td>\n",
       "      <td>0.96307784 nm</td>\n",
       "      <td>0.15800579 nm</td>\n",
       "    </tr>\n",
       "    <tr>\n",
       "      <th>run_2</th>\n",
       "      <td>0.435578</td>\n",
       "      <td>0.564422</td>\n",
       "      <td>0.12633936 nm</td>\n",
       "      <td>0.96865433 nm</td>\n",
       "    </tr>\n",
       "    <tr>\n",
       "      <th>run_3</th>\n",
       "      <td>0</td>\n",
       "      <td>1</td>\n",
       "      <td>0.96693903 nm</td>\n",
       "      <td>0.14951897 nm</td>\n",
       "    </tr>\n",
       "    <tr>\n",
       "      <th>run_4</th>\n",
       "      <td>0.481126</td>\n",
       "      <td>0.518874</td>\n",
       "      <td>0.042638846 nm</td>\n",
       "      <td>0.97615075 nm</td>\n",
       "    </tr>\n",
       "    <tr>\n",
       "      <th>run_5</th>\n",
       "      <td>0.840658</td>\n",
       "      <td>0.159342</td>\n",
       "      <td>-0.6558025 nm</td>\n",
       "      <td>0.72313696 nm</td>\n",
       "    </tr>\n",
       "    <tr>\n",
       "      <th>run_6</th>\n",
       "      <td>0.00129994</td>\n",
       "      <td>0.9987</td>\n",
       "      <td>0.9660811 nm</td>\n",
       "      <td>0.16029705 nm</td>\n",
       "    </tr>\n",
       "    <tr>\n",
       "      <th>run_7</th>\n",
       "      <td>0.337883</td>\n",
       "      <td>0.662117</td>\n",
       "      <td>0.31043163 nm</td>\n",
       "      <td>0.9256847 nm</td>\n",
       "    </tr>\n",
       "    <tr>\n",
       "      <th>run_8</th>\n",
       "      <td>0.477376</td>\n",
       "      <td>0.522624</td>\n",
       "      <td>0.04185656 nm</td>\n",
       "      <td>0.9747639 nm</td>\n",
       "    </tr>\n",
       "    <tr>\n",
       "      <th>run_9</th>\n",
       "      <td>0.558572</td>\n",
       "      <td>0.441428</td>\n",
       "      <td>-0.10706908 nm</td>\n",
       "      <td>0.97329867 nm</td>\n",
       "    </tr>\n",
       "  </tbody>\n",
       "</table>\n",
       "</div>"
      ],
      "text/plain": [
       "           P_left   P_right          X_mean          X_std\n",
       "run_0           0         1    0.9614373 nm  0.15872319 nm\n",
       "run_1           0         1   0.96307784 nm  0.15800579 nm\n",
       "run_2    0.435578  0.564422   0.12633936 nm  0.96865433 nm\n",
       "run_3           0         1   0.96693903 nm  0.14951897 nm\n",
       "run_4    0.481126  0.518874  0.042638846 nm  0.97615075 nm\n",
       "run_5    0.840658  0.159342   -0.6558025 nm  0.72313696 nm\n",
       "run_6  0.00129994    0.9987    0.9660811 nm  0.16029705 nm\n",
       "run_7    0.337883  0.662117   0.31043163 nm   0.9256847 nm\n",
       "run_8    0.477376  0.522624   0.04185656 nm   0.9747639 nm\n",
       "run_9    0.558572  0.441428  -0.10706908 nm  0.97329867 nm"
      ]
     },
     "execution_count": 23,
     "metadata": {},
     "output_type": "execute_result"
    }
   ],
   "source": [
    "data[9]"
   ]
  },
  {
   "cell_type": "code",
   "execution_count": null,
   "metadata": {},
   "outputs": [],
   "source": [
    "data"
   ]
  },
  {
   "cell_type": "code",
   "execution_count": null,
   "metadata": {},
   "outputs": [],
   "source": []
  }
 ],
 "metadata": {
  "kernelspec": {
   "display_name": "Python 3",
   "language": "python",
   "name": "python3"
  },
  "language_info": {
   "codemirror_mode": {
    "name": "ipython",
    "version": 3
   },
   "file_extension": ".py",
   "mimetype": "text/x-python",
   "name": "python",
   "nbconvert_exporter": "python",
   "pygments_lexer": "ipython3",
   "version": "3.7.7"
  }
 },
 "nbformat": 4,
 "nbformat_minor": 4
}
